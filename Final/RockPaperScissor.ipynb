{
 "nbformat": 4,
 "nbformat_minor": 0,
 "metadata": {
  "colab": {
   "name": "RockPaperScissor.ipynb",
   "provenance": [],
   "collapsed_sections": []
  },
  "kernelspec": {
   "name": "python3",
   "display_name": "Python 3"
  },
  "language_info": {
   "name": "python"
  },
  "accelerator": "GPU",
  "widgets": {
   "application/vnd.jupyter.widget-state+json": {
    "e42f5b6a30df40aaab6d6a10320808b8": {
     "model_module": "@jupyter-widgets/controls",
     "model_name": "HBoxModel",
     "model_module_version": "1.5.0",
     "state": {
      "_view_name": "HBoxView",
      "_dom_classes": [],
      "_model_name": "HBoxModel",
      "_view_module": "@jupyter-widgets/controls",
      "_model_module_version": "1.5.0",
      "_view_count": null,
      "_view_module_version": "1.5.0",
      "box_style": "",
      "layout": "IPY_MODEL_40edffa4fed2464a97a25c13b7bf5c11",
      "_model_module": "@jupyter-widgets/controls",
      "children": [
       "IPY_MODEL_fd8d32ae615c47538d823dd5846f6c0a",
       "IPY_MODEL_169c8d5b7af84fffb54666a4fb3766a6",
       "IPY_MODEL_d7ba6912d80a439e8c438769efff8de9"
      ]
     }
    },
    "40edffa4fed2464a97a25c13b7bf5c11": {
     "model_module": "@jupyter-widgets/base",
     "model_name": "LayoutModel",
     "model_module_version": "1.2.0",
     "state": {
      "_view_name": "LayoutView",
      "grid_template_rows": null,
      "right": null,
      "justify_content": null,
      "_view_module": "@jupyter-widgets/base",
      "overflow": null,
      "_model_module_version": "1.2.0",
      "_view_count": null,
      "flex_flow": null,
      "width": null,
      "min_width": null,
      "border": null,
      "align_items": null,
      "bottom": null,
      "_model_module": "@jupyter-widgets/base",
      "top": null,
      "grid_column": null,
      "overflow_y": null,
      "overflow_x": null,
      "grid_auto_flow": null,
      "grid_area": null,
      "grid_template_columns": null,
      "flex": null,
      "_model_name": "LayoutModel",
      "justify_items": null,
      "grid_row": null,
      "max_height": null,
      "align_content": null,
      "visibility": null,
      "align_self": null,
      "height": null,
      "min_height": null,
      "padding": null,
      "grid_auto_rows": null,
      "grid_gap": null,
      "max_width": null,
      "order": null,
      "_view_module_version": "1.2.0",
      "grid_template_areas": null,
      "object_position": null,
      "object_fit": null,
      "grid_auto_columns": null,
      "margin": null,
      "display": null,
      "left": null
     }
    },
    "fd8d32ae615c47538d823dd5846f6c0a": {
     "model_module": "@jupyter-widgets/controls",
     "model_name": "HTMLModel",
     "model_module_version": "1.5.0",
     "state": {
      "_view_name": "HTMLView",
      "style": "IPY_MODEL_41e828ee88174c83b5ebcee7b567f10f",
      "_dom_classes": [],
      "description": "",
      "_model_name": "HTMLModel",
      "placeholder": "​",
      "_view_module": "@jupyter-widgets/controls",
      "_model_module_version": "1.5.0",
      "value": "100%",
      "_view_count": null,
      "_view_module_version": "1.5.0",
      "description_tooltip": null,
      "_model_module": "@jupyter-widgets/controls",
      "layout": "IPY_MODEL_75a8f8ad6e2f47198ea7f937078f0622"
     }
    },
    "169c8d5b7af84fffb54666a4fb3766a6": {
     "model_module": "@jupyter-widgets/controls",
     "model_name": "FloatProgressModel",
     "model_module_version": "1.5.0",
     "state": {
      "_view_name": "ProgressView",
      "style": "IPY_MODEL_97d90c92867240229d278a42d5a26f1e",
      "_dom_classes": [],
      "description": "",
      "_model_name": "FloatProgressModel",
      "bar_style": "success",
      "max": 48,
      "_view_module": "@jupyter-widgets/controls",
      "_model_module_version": "1.5.0",
      "value": 48,
      "_view_count": null,
      "_view_module_version": "1.5.0",
      "orientation": "horizontal",
      "min": 0,
      "description_tooltip": null,
      "_model_module": "@jupyter-widgets/controls",
      "layout": "IPY_MODEL_64f0ab9cc7044e85bbcaf47da855a5b4"
     }
    },
    "d7ba6912d80a439e8c438769efff8de9": {
     "model_module": "@jupyter-widgets/controls",
     "model_name": "HTMLModel",
     "model_module_version": "1.5.0",
     "state": {
      "_view_name": "HTMLView",
      "style": "IPY_MODEL_63c7a17ff04f47d39347132864bef9a6",
      "_dom_classes": [],
      "description": "",
      "_model_name": "HTMLModel",
      "placeholder": "​",
      "_view_module": "@jupyter-widgets/controls",
      "_model_module_version": "1.5.0",
      "value": " 48/48 [03:18&lt;00:00,  3.54s/it]",
      "_view_count": null,
      "_view_module_version": "1.5.0",
      "description_tooltip": null,
      "_model_module": "@jupyter-widgets/controls",
      "layout": "IPY_MODEL_41a41271065a4a70ac6002df42823512"
     }
    },
    "41e828ee88174c83b5ebcee7b567f10f": {
     "model_module": "@jupyter-widgets/controls",
     "model_name": "DescriptionStyleModel",
     "model_module_version": "1.5.0",
     "state": {
      "_view_name": "StyleView",
      "_model_name": "DescriptionStyleModel",
      "description_width": "",
      "_view_module": "@jupyter-widgets/base",
      "_model_module_version": "1.5.0",
      "_view_count": null,
      "_view_module_version": "1.2.0",
      "_model_module": "@jupyter-widgets/controls"
     }
    },
    "75a8f8ad6e2f47198ea7f937078f0622": {
     "model_module": "@jupyter-widgets/base",
     "model_name": "LayoutModel",
     "model_module_version": "1.2.0",
     "state": {
      "_view_name": "LayoutView",
      "grid_template_rows": null,
      "right": null,
      "justify_content": null,
      "_view_module": "@jupyter-widgets/base",
      "overflow": null,
      "_model_module_version": "1.2.0",
      "_view_count": null,
      "flex_flow": null,
      "width": null,
      "min_width": null,
      "border": null,
      "align_items": null,
      "bottom": null,
      "_model_module": "@jupyter-widgets/base",
      "top": null,
      "grid_column": null,
      "overflow_y": null,
      "overflow_x": null,
      "grid_auto_flow": null,
      "grid_area": null,
      "grid_template_columns": null,
      "flex": null,
      "_model_name": "LayoutModel",
      "justify_items": null,
      "grid_row": null,
      "max_height": null,
      "align_content": null,
      "visibility": null,
      "align_self": null,
      "height": null,
      "min_height": null,
      "padding": null,
      "grid_auto_rows": null,
      "grid_gap": null,
      "max_width": null,
      "order": null,
      "_view_module_version": "1.2.0",
      "grid_template_areas": null,
      "object_position": null,
      "object_fit": null,
      "grid_auto_columns": null,
      "margin": null,
      "display": null,
      "left": null
     }
    },
    "97d90c92867240229d278a42d5a26f1e": {
     "model_module": "@jupyter-widgets/controls",
     "model_name": "ProgressStyleModel",
     "model_module_version": "1.5.0",
     "state": {
      "_view_name": "StyleView",
      "_model_name": "ProgressStyleModel",
      "description_width": "",
      "_view_module": "@jupyter-widgets/base",
      "_model_module_version": "1.5.0",
      "_view_count": null,
      "_view_module_version": "1.2.0",
      "bar_color": null,
      "_model_module": "@jupyter-widgets/controls"
     }
    },
    "64f0ab9cc7044e85bbcaf47da855a5b4": {
     "model_module": "@jupyter-widgets/base",
     "model_name": "LayoutModel",
     "model_module_version": "1.2.0",
     "state": {
      "_view_name": "LayoutView",
      "grid_template_rows": null,
      "right": null,
      "justify_content": null,
      "_view_module": "@jupyter-widgets/base",
      "overflow": null,
      "_model_module_version": "1.2.0",
      "_view_count": null,
      "flex_flow": null,
      "width": null,
      "min_width": null,
      "border": null,
      "align_items": null,
      "bottom": null,
      "_model_module": "@jupyter-widgets/base",
      "top": null,
      "grid_column": null,
      "overflow_y": null,
      "overflow_x": null,
      "grid_auto_flow": null,
      "grid_area": null,
      "grid_template_columns": null,
      "flex": null,
      "_model_name": "LayoutModel",
      "justify_items": null,
      "grid_row": null,
      "max_height": null,
      "align_content": null,
      "visibility": null,
      "align_self": null,
      "height": null,
      "min_height": null,
      "padding": null,
      "grid_auto_rows": null,
      "grid_gap": null,
      "max_width": null,
      "order": null,
      "_view_module_version": "1.2.0",
      "grid_template_areas": null,
      "object_position": null,
      "object_fit": null,
      "grid_auto_columns": null,
      "margin": null,
      "display": null,
      "left": null
     }
    },
    "63c7a17ff04f47d39347132864bef9a6": {
     "model_module": "@jupyter-widgets/controls",
     "model_name": "DescriptionStyleModel",
     "model_module_version": "1.5.0",
     "state": {
      "_view_name": "StyleView",
      "_model_name": "DescriptionStyleModel",
      "description_width": "",
      "_view_module": "@jupyter-widgets/base",
      "_model_module_version": "1.5.0",
      "_view_count": null,
      "_view_module_version": "1.2.0",
      "_model_module": "@jupyter-widgets/controls"
     }
    },
    "41a41271065a4a70ac6002df42823512": {
     "model_module": "@jupyter-widgets/base",
     "model_name": "LayoutModel",
     "model_module_version": "1.2.0",
     "state": {
      "_view_name": "LayoutView",
      "grid_template_rows": null,
      "right": null,
      "justify_content": null,
      "_view_module": "@jupyter-widgets/base",
      "overflow": null,
      "_model_module_version": "1.2.0",
      "_view_count": null,
      "flex_flow": null,
      "width": null,
      "min_width": null,
      "border": null,
      "align_items": null,
      "bottom": null,
      "_model_module": "@jupyter-widgets/base",
      "top": null,
      "grid_column": null,
      "overflow_y": null,
      "overflow_x": null,
      "grid_auto_flow": null,
      "grid_area": null,
      "grid_template_columns": null,
      "flex": null,
      "_model_name": "LayoutModel",
      "justify_items": null,
      "grid_row": null,
      "max_height": null,
      "align_content": null,
      "visibility": null,
      "align_self": null,
      "height": null,
      "min_height": null,
      "padding": null,
      "grid_auto_rows": null,
      "grid_gap": null,
      "max_width": null,
      "order": null,
      "_view_module_version": "1.2.0",
      "grid_template_areas": null,
      "object_position": null,
      "object_fit": null,
      "grid_auto_columns": null,
      "margin": null,
      "display": null,
      "left": null
     }
    },
    "2d3504c77e3f414097e374e5223d7152": {
     "model_module": "@jupyter-widgets/controls",
     "model_name": "HBoxModel",
     "model_module_version": "1.5.0",
     "state": {
      "_view_name": "HBoxView",
      "_dom_classes": [],
      "_model_name": "HBoxModel",
      "_view_module": "@jupyter-widgets/controls",
      "_model_module_version": "1.5.0",
      "_view_count": null,
      "_view_module_version": "1.5.0",
      "box_style": "",
      "layout": "IPY_MODEL_730bea7caf8f47869a8f037d99dc04cc",
      "_model_module": "@jupyter-widgets/controls",
      "children": [
       "IPY_MODEL_e1114c18db0c410cb2250f2bfe7c4a33",
       "IPY_MODEL_7371972b64964a368f225c3e9e4392c7",
       "IPY_MODEL_4df21435a57249b7849a6eb731608f7f"
      ]
     }
    },
    "730bea7caf8f47869a8f037d99dc04cc": {
     "model_module": "@jupyter-widgets/base",
     "model_name": "LayoutModel",
     "model_module_version": "1.2.0",
     "state": {
      "_view_name": "LayoutView",
      "grid_template_rows": null,
      "right": null,
      "justify_content": null,
      "_view_module": "@jupyter-widgets/base",
      "overflow": null,
      "_model_module_version": "1.2.0",
      "_view_count": null,
      "flex_flow": null,
      "width": null,
      "min_width": null,
      "border": null,
      "align_items": null,
      "bottom": null,
      "_model_module": "@jupyter-widgets/base",
      "top": null,
      "grid_column": null,
      "overflow_y": null,
      "overflow_x": null,
      "grid_auto_flow": null,
      "grid_area": null,
      "grid_template_columns": null,
      "flex": null,
      "_model_name": "LayoutModel",
      "justify_items": null,
      "grid_row": null,
      "max_height": null,
      "align_content": null,
      "visibility": null,
      "align_self": null,
      "height": null,
      "min_height": null,
      "padding": null,
      "grid_auto_rows": null,
      "grid_gap": null,
      "max_width": null,
      "order": null,
      "_view_module_version": "1.2.0",
      "grid_template_areas": null,
      "object_position": null,
      "object_fit": null,
      "grid_auto_columns": null,
      "margin": null,
      "display": null,
      "left": null
     }
    },
    "e1114c18db0c410cb2250f2bfe7c4a33": {
     "model_module": "@jupyter-widgets/controls",
     "model_name": "HTMLModel",
     "model_module_version": "1.5.0",
     "state": {
      "_view_name": "HTMLView",
      "style": "IPY_MODEL_9f02d0c509e8462fa1567876162877a2",
      "_dom_classes": [],
      "description": "",
      "_model_name": "HTMLModel",
      "placeholder": "​",
      "_view_module": "@jupyter-widgets/controls",
      "_model_module_version": "1.5.0",
      "value": "100%",
      "_view_count": null,
      "_view_module_version": "1.5.0",
      "description_tooltip": null,
      "_model_module": "@jupyter-widgets/controls",
      "layout": "IPY_MODEL_669b85c0902d44d5860a5d3e036b7ff7"
     }
    },
    "7371972b64964a368f225c3e9e4392c7": {
     "model_module": "@jupyter-widgets/controls",
     "model_name": "FloatProgressModel",
     "model_module_version": "1.5.0",
     "state": {
      "_view_name": "ProgressView",
      "style": "IPY_MODEL_4ad9292a8fbe4ddfa2c502871dc3548a",
      "_dom_classes": [],
      "description": "",
      "_model_name": "FloatProgressModel",
      "bar_style": "success",
      "max": 48,
      "_view_module": "@jupyter-widgets/controls",
      "_model_module_version": "1.5.0",
      "value": 48,
      "_view_count": null,
      "_view_module_version": "1.5.0",
      "orientation": "horizontal",
      "min": 0,
      "description_tooltip": null,
      "_model_module": "@jupyter-widgets/controls",
      "layout": "IPY_MODEL_99dd22e4931547e7be466b01899aba54"
     }
    },
    "4df21435a57249b7849a6eb731608f7f": {
     "model_module": "@jupyter-widgets/controls",
     "model_name": "HTMLModel",
     "model_module_version": "1.5.0",
     "state": {
      "_view_name": "HTMLView",
      "style": "IPY_MODEL_64d57fa5c0d84c4da55a6b5059070f86",
      "_dom_classes": [],
      "description": "",
      "_model_name": "HTMLModel",
      "placeholder": "​",
      "_view_module": "@jupyter-widgets/controls",
      "_model_module_version": "1.5.0",
      "value": " 48/48 [00:12&lt;00:00,  4.14it/s]",
      "_view_count": null,
      "_view_module_version": "1.5.0",
      "description_tooltip": null,
      "_model_module": "@jupyter-widgets/controls",
      "layout": "IPY_MODEL_0888516e630648e5be948e49199870d7"
     }
    },
    "9f02d0c509e8462fa1567876162877a2": {
     "model_module": "@jupyter-widgets/controls",
     "model_name": "DescriptionStyleModel",
     "model_module_version": "1.5.0",
     "state": {
      "_view_name": "StyleView",
      "_model_name": "DescriptionStyleModel",
      "description_width": "",
      "_view_module": "@jupyter-widgets/base",
      "_model_module_version": "1.5.0",
      "_view_count": null,
      "_view_module_version": "1.2.0",
      "_model_module": "@jupyter-widgets/controls"
     }
    },
    "669b85c0902d44d5860a5d3e036b7ff7": {
     "model_module": "@jupyter-widgets/base",
     "model_name": "LayoutModel",
     "model_module_version": "1.2.0",
     "state": {
      "_view_name": "LayoutView",
      "grid_template_rows": null,
      "right": null,
      "justify_content": null,
      "_view_module": "@jupyter-widgets/base",
      "overflow": null,
      "_model_module_version": "1.2.0",
      "_view_count": null,
      "flex_flow": null,
      "width": null,
      "min_width": null,
      "border": null,
      "align_items": null,
      "bottom": null,
      "_model_module": "@jupyter-widgets/base",
      "top": null,
      "grid_column": null,
      "overflow_y": null,
      "overflow_x": null,
      "grid_auto_flow": null,
      "grid_area": null,
      "grid_template_columns": null,
      "flex": null,
      "_model_name": "LayoutModel",
      "justify_items": null,
      "grid_row": null,
      "max_height": null,
      "align_content": null,
      "visibility": null,
      "align_self": null,
      "height": null,
      "min_height": null,
      "padding": null,
      "grid_auto_rows": null,
      "grid_gap": null,
      "max_width": null,
      "order": null,
      "_view_module_version": "1.2.0",
      "grid_template_areas": null,
      "object_position": null,
      "object_fit": null,
      "grid_auto_columns": null,
      "margin": null,
      "display": null,
      "left": null
     }
    },
    "4ad9292a8fbe4ddfa2c502871dc3548a": {
     "model_module": "@jupyter-widgets/controls",
     "model_name": "ProgressStyleModel",
     "model_module_version": "1.5.0",
     "state": {
      "_view_name": "StyleView",
      "_model_name": "ProgressStyleModel",
      "description_width": "",
      "_view_module": "@jupyter-widgets/base",
      "_model_module_version": "1.5.0",
      "_view_count": null,
      "_view_module_version": "1.2.0",
      "bar_color": null,
      "_model_module": "@jupyter-widgets/controls"
     }
    },
    "99dd22e4931547e7be466b01899aba54": {
     "model_module": "@jupyter-widgets/base",
     "model_name": "LayoutModel",
     "model_module_version": "1.2.0",
     "state": {
      "_view_name": "LayoutView",
      "grid_template_rows": null,
      "right": null,
      "justify_content": null,
      "_view_module": "@jupyter-widgets/base",
      "overflow": null,
      "_model_module_version": "1.2.0",
      "_view_count": null,
      "flex_flow": null,
      "width": null,
      "min_width": null,
      "border": null,
      "align_items": null,
      "bottom": null,
      "_model_module": "@jupyter-widgets/base",
      "top": null,
      "grid_column": null,
      "overflow_y": null,
      "overflow_x": null,
      "grid_auto_flow": null,
      "grid_area": null,
      "grid_template_columns": null,
      "flex": null,
      "_model_name": "LayoutModel",
      "justify_items": null,
      "grid_row": null,
      "max_height": null,
      "align_content": null,
      "visibility": null,
      "align_self": null,
      "height": null,
      "min_height": null,
      "padding": null,
      "grid_auto_rows": null,
      "grid_gap": null,
      "max_width": null,
      "order": null,
      "_view_module_version": "1.2.0",
      "grid_template_areas": null,
      "object_position": null,
      "object_fit": null,
      "grid_auto_columns": null,
      "margin": null,
      "display": null,
      "left": null
     }
    },
    "64d57fa5c0d84c4da55a6b5059070f86": {
     "model_module": "@jupyter-widgets/controls",
     "model_name": "DescriptionStyleModel",
     "model_module_version": "1.5.0",
     "state": {
      "_view_name": "StyleView",
      "_model_name": "DescriptionStyleModel",
      "description_width": "",
      "_view_module": "@jupyter-widgets/base",
      "_model_module_version": "1.5.0",
      "_view_count": null,
      "_view_module_version": "1.2.0",
      "_model_module": "@jupyter-widgets/controls"
     }
    },
    "0888516e630648e5be948e49199870d7": {
     "model_module": "@jupyter-widgets/base",
     "model_name": "LayoutModel",
     "model_module_version": "1.2.0",
     "state": {
      "_view_name": "LayoutView",
      "grid_template_rows": null,
      "right": null,
      "justify_content": null,
      "_view_module": "@jupyter-widgets/base",
      "overflow": null,
      "_model_module_version": "1.2.0",
      "_view_count": null,
      "flex_flow": null,
      "width": null,
      "min_width": null,
      "border": null,
      "align_items": null,
      "bottom": null,
      "_model_module": "@jupyter-widgets/base",
      "top": null,
      "grid_column": null,
      "overflow_y": null,
      "overflow_x": null,
      "grid_auto_flow": null,
      "grid_area": null,
      "grid_template_columns": null,
      "flex": null,
      "_model_name": "LayoutModel",
      "justify_items": null,
      "grid_row": null,
      "max_height": null,
      "align_content": null,
      "visibility": null,
      "align_self": null,
      "height": null,
      "min_height": null,
      "padding": null,
      "grid_auto_rows": null,
      "grid_gap": null,
      "max_width": null,
      "order": null,
      "_view_module_version": "1.2.0",
      "grid_template_areas": null,
      "object_position": null,
      "object_fit": null,
      "grid_auto_columns": null,
      "margin": null,
      "display": null,
      "left": null
     }
    },
    "ddbc089bef964bea9c90611332789a93": {
     "model_module": "@jupyter-widgets/controls",
     "model_name": "HBoxModel",
     "model_module_version": "1.5.0",
     "state": {
      "_view_name": "HBoxView",
      "_dom_classes": [],
      "_model_name": "HBoxModel",
      "_view_module": "@jupyter-widgets/controls",
      "_model_module_version": "1.5.0",
      "_view_count": null,
      "_view_module_version": "1.5.0",
      "box_style": "",
      "layout": "IPY_MODEL_99fcba6034ab485f8c8f81ee4d8a1f01",
      "_model_module": "@jupyter-widgets/controls",
      "children": [
       "IPY_MODEL_dfccd371c78548bb912b9710c74b7d0b",
       "IPY_MODEL_2558da827fcb46ab8882544b1060a9b9",
       "IPY_MODEL_e7c3bb6f086e41e68d7e65d819c4c0d7"
      ]
     }
    },
    "99fcba6034ab485f8c8f81ee4d8a1f01": {
     "model_module": "@jupyter-widgets/base",
     "model_name": "LayoutModel",
     "model_module_version": "1.2.0",
     "state": {
      "_view_name": "LayoutView",
      "grid_template_rows": null,
      "right": null,
      "justify_content": null,
      "_view_module": "@jupyter-widgets/base",
      "overflow": null,
      "_model_module_version": "1.2.0",
      "_view_count": null,
      "flex_flow": null,
      "width": null,
      "min_width": null,
      "border": null,
      "align_items": null,
      "bottom": null,
      "_model_module": "@jupyter-widgets/base",
      "top": null,
      "grid_column": null,
      "overflow_y": null,
      "overflow_x": null,
      "grid_auto_flow": null,
      "grid_area": null,
      "grid_template_columns": null,
      "flex": null,
      "_model_name": "LayoutModel",
      "justify_items": null,
      "grid_row": null,
      "max_height": null,
      "align_content": null,
      "visibility": null,
      "align_self": null,
      "height": null,
      "min_height": null,
      "padding": null,
      "grid_auto_rows": null,
      "grid_gap": null,
      "max_width": null,
      "order": null,
      "_view_module_version": "1.2.0",
      "grid_template_areas": null,
      "object_position": null,
      "object_fit": null,
      "grid_auto_columns": null,
      "margin": null,
      "display": null,
      "left": null
     }
    },
    "dfccd371c78548bb912b9710c74b7d0b": {
     "model_module": "@jupyter-widgets/controls",
     "model_name": "HTMLModel",
     "model_module_version": "1.5.0",
     "state": {
      "_view_name": "HTMLView",
      "style": "IPY_MODEL_0a03f268a12b418585dc7abf0532a6f0",
      "_dom_classes": [],
      "description": "",
      "_model_name": "HTMLModel",
      "placeholder": "​",
      "_view_module": "@jupyter-widgets/controls",
      "_model_module_version": "1.5.0",
      "value": "100%",
      "_view_count": null,
      "_view_module_version": "1.5.0",
      "description_tooltip": null,
      "_model_module": "@jupyter-widgets/controls",
      "layout": "IPY_MODEL_a83bf8e87a2548978820d3aa0cc0ce79"
     }
    },
    "2558da827fcb46ab8882544b1060a9b9": {
     "model_module": "@jupyter-widgets/controls",
     "model_name": "FloatProgressModel",
     "model_module_version": "1.5.0",
     "state": {
      "_view_name": "ProgressView",
      "style": "IPY_MODEL_9e6320898ce7411b83519f1d72ae2307",
      "_dom_classes": [],
      "description": "",
      "_model_name": "FloatProgressModel",
      "bar_style": "success",
      "max": 48,
      "_view_module": "@jupyter-widgets/controls",
      "_model_module_version": "1.5.0",
      "value": 48,
      "_view_count": null,
      "_view_module_version": "1.5.0",
      "orientation": "horizontal",
      "min": 0,
      "description_tooltip": null,
      "_model_module": "@jupyter-widgets/controls",
      "layout": "IPY_MODEL_65ce2c23039b403ab39a3d72aad8dc97"
     }
    },
    "e7c3bb6f086e41e68d7e65d819c4c0d7": {
     "model_module": "@jupyter-widgets/controls",
     "model_name": "HTMLModel",
     "model_module_version": "1.5.0",
     "state": {
      "_view_name": "HTMLView",
      "style": "IPY_MODEL_0cca16dd06514d62b7372ec911c280b8",
      "_dom_classes": [],
      "description": "",
      "_model_name": "HTMLModel",
      "placeholder": "​",
      "_view_module": "@jupyter-widgets/controls",
      "_model_module_version": "1.5.0",
      "value": " 48/48 [00:12&lt;00:00,  4.05it/s]",
      "_view_count": null,
      "_view_module_version": "1.5.0",
      "description_tooltip": null,
      "_model_module": "@jupyter-widgets/controls",
      "layout": "IPY_MODEL_b081d16bc0dd4b34a3807afa3f387e6a"
     }
    },
    "0a03f268a12b418585dc7abf0532a6f0": {
     "model_module": "@jupyter-widgets/controls",
     "model_name": "DescriptionStyleModel",
     "model_module_version": "1.5.0",
     "state": {
      "_view_name": "StyleView",
      "_model_name": "DescriptionStyleModel",
      "description_width": "",
      "_view_module": "@jupyter-widgets/base",
      "_model_module_version": "1.5.0",
      "_view_count": null,
      "_view_module_version": "1.2.0",
      "_model_module": "@jupyter-widgets/controls"
     }
    },
    "a83bf8e87a2548978820d3aa0cc0ce79": {
     "model_module": "@jupyter-widgets/base",
     "model_name": "LayoutModel",
     "model_module_version": "1.2.0",
     "state": {
      "_view_name": "LayoutView",
      "grid_template_rows": null,
      "right": null,
      "justify_content": null,
      "_view_module": "@jupyter-widgets/base",
      "overflow": null,
      "_model_module_version": "1.2.0",
      "_view_count": null,
      "flex_flow": null,
      "width": null,
      "min_width": null,
      "border": null,
      "align_items": null,
      "bottom": null,
      "_model_module": "@jupyter-widgets/base",
      "top": null,
      "grid_column": null,
      "overflow_y": null,
      "overflow_x": null,
      "grid_auto_flow": null,
      "grid_area": null,
      "grid_template_columns": null,
      "flex": null,
      "_model_name": "LayoutModel",
      "justify_items": null,
      "grid_row": null,
      "max_height": null,
      "align_content": null,
      "visibility": null,
      "align_self": null,
      "height": null,
      "min_height": null,
      "padding": null,
      "grid_auto_rows": null,
      "grid_gap": null,
      "max_width": null,
      "order": null,
      "_view_module_version": "1.2.0",
      "grid_template_areas": null,
      "object_position": null,
      "object_fit": null,
      "grid_auto_columns": null,
      "margin": null,
      "display": null,
      "left": null
     }
    },
    "9e6320898ce7411b83519f1d72ae2307": {
     "model_module": "@jupyter-widgets/controls",
     "model_name": "ProgressStyleModel",
     "model_module_version": "1.5.0",
     "state": {
      "_view_name": "StyleView",
      "_model_name": "ProgressStyleModel",
      "description_width": "",
      "_view_module": "@jupyter-widgets/base",
      "_model_module_version": "1.5.0",
      "_view_count": null,
      "_view_module_version": "1.2.0",
      "bar_color": null,
      "_model_module": "@jupyter-widgets/controls"
     }
    },
    "65ce2c23039b403ab39a3d72aad8dc97": {
     "model_module": "@jupyter-widgets/base",
     "model_name": "LayoutModel",
     "model_module_version": "1.2.0",
     "state": {
      "_view_name": "LayoutView",
      "grid_template_rows": null,
      "right": null,
      "justify_content": null,
      "_view_module": "@jupyter-widgets/base",
      "overflow": null,
      "_model_module_version": "1.2.0",
      "_view_count": null,
      "flex_flow": null,
      "width": null,
      "min_width": null,
      "border": null,
      "align_items": null,
      "bottom": null,
      "_model_module": "@jupyter-widgets/base",
      "top": null,
      "grid_column": null,
      "overflow_y": null,
      "overflow_x": null,
      "grid_auto_flow": null,
      "grid_area": null,
      "grid_template_columns": null,
      "flex": null,
      "_model_name": "LayoutModel",
      "justify_items": null,
      "grid_row": null,
      "max_height": null,
      "align_content": null,
      "visibility": null,
      "align_self": null,
      "height": null,
      "min_height": null,
      "padding": null,
      "grid_auto_rows": null,
      "grid_gap": null,
      "max_width": null,
      "order": null,
      "_view_module_version": "1.2.0",
      "grid_template_areas": null,
      "object_position": null,
      "object_fit": null,
      "grid_auto_columns": null,
      "margin": null,
      "display": null,
      "left": null
     }
    },
    "0cca16dd06514d62b7372ec911c280b8": {
     "model_module": "@jupyter-widgets/controls",
     "model_name": "DescriptionStyleModel",
     "model_module_version": "1.5.0",
     "state": {
      "_view_name": "StyleView",
      "_model_name": "DescriptionStyleModel",
      "description_width": "",
      "_view_module": "@jupyter-widgets/base",
      "_model_module_version": "1.5.0",
      "_view_count": null,
      "_view_module_version": "1.2.0",
      "_model_module": "@jupyter-widgets/controls"
     }
    },
    "b081d16bc0dd4b34a3807afa3f387e6a": {
     "model_module": "@jupyter-widgets/base",
     "model_name": "LayoutModel",
     "model_module_version": "1.2.0",
     "state": {
      "_view_name": "LayoutView",
      "grid_template_rows": null,
      "right": null,
      "justify_content": null,
      "_view_module": "@jupyter-widgets/base",
      "overflow": null,
      "_model_module_version": "1.2.0",
      "_view_count": null,
      "flex_flow": null,
      "width": null,
      "min_width": null,
      "border": null,
      "align_items": null,
      "bottom": null,
      "_model_module": "@jupyter-widgets/base",
      "top": null,
      "grid_column": null,
      "overflow_y": null,
      "overflow_x": null,
      "grid_auto_flow": null,
      "grid_area": null,
      "grid_template_columns": null,
      "flex": null,
      "_model_name": "LayoutModel",
      "justify_items": null,
      "grid_row": null,
      "max_height": null,
      "align_content": null,
      "visibility": null,
      "align_self": null,
      "height": null,
      "min_height": null,
      "padding": null,
      "grid_auto_rows": null,
      "grid_gap": null,
      "max_width": null,
      "order": null,
      "_view_module_version": "1.2.0",
      "grid_template_areas": null,
      "object_position": null,
      "object_fit": null,
      "grid_auto_columns": null,
      "margin": null,
      "display": null,
      "left": null
     }
    },
    "287aaf93bb5d480b9ea59eec797e5e19": {
     "model_module": "@jupyter-widgets/controls",
     "model_name": "HBoxModel",
     "model_module_version": "1.5.0",
     "state": {
      "_view_name": "HBoxView",
      "_dom_classes": [],
      "_model_name": "HBoxModel",
      "_view_module": "@jupyter-widgets/controls",
      "_model_module_version": "1.5.0",
      "_view_count": null,
      "_view_module_version": "1.5.0",
      "box_style": "",
      "layout": "IPY_MODEL_9788f0bccc2b4a03a6f3da41db13684b",
      "_model_module": "@jupyter-widgets/controls",
      "children": [
       "IPY_MODEL_0a6ae862952d43c4a68646e742c0caf2",
       "IPY_MODEL_60a18c64c0504a98969e9ac83c171331",
       "IPY_MODEL_98a03b350b9e4512bb95892cd1638ba4"
      ]
     }
    },
    "9788f0bccc2b4a03a6f3da41db13684b": {
     "model_module": "@jupyter-widgets/base",
     "model_name": "LayoutModel",
     "model_module_version": "1.2.0",
     "state": {
      "_view_name": "LayoutView",
      "grid_template_rows": null,
      "right": null,
      "justify_content": null,
      "_view_module": "@jupyter-widgets/base",
      "overflow": null,
      "_model_module_version": "1.2.0",
      "_view_count": null,
      "flex_flow": null,
      "width": null,
      "min_width": null,
      "border": null,
      "align_items": null,
      "bottom": null,
      "_model_module": "@jupyter-widgets/base",
      "top": null,
      "grid_column": null,
      "overflow_y": null,
      "overflow_x": null,
      "grid_auto_flow": null,
      "grid_area": null,
      "grid_template_columns": null,
      "flex": null,
      "_model_name": "LayoutModel",
      "justify_items": null,
      "grid_row": null,
      "max_height": null,
      "align_content": null,
      "visibility": null,
      "align_self": null,
      "height": null,
      "min_height": null,
      "padding": null,
      "grid_auto_rows": null,
      "grid_gap": null,
      "max_width": null,
      "order": null,
      "_view_module_version": "1.2.0",
      "grid_template_areas": null,
      "object_position": null,
      "object_fit": null,
      "grid_auto_columns": null,
      "margin": null,
      "display": null,
      "left": null
     }
    },
    "0a6ae862952d43c4a68646e742c0caf2": {
     "model_module": "@jupyter-widgets/controls",
     "model_name": "HTMLModel",
     "model_module_version": "1.5.0",
     "state": {
      "_view_name": "HTMLView",
      "style": "IPY_MODEL_f6bea77cedb140e19766a3adbe23acfb",
      "_dom_classes": [],
      "description": "",
      "_model_name": "HTMLModel",
      "placeholder": "​",
      "_view_module": "@jupyter-widgets/controls",
      "_model_module_version": "1.5.0",
      "value": "100%",
      "_view_count": null,
      "_view_module_version": "1.5.0",
      "description_tooltip": null,
      "_model_module": "@jupyter-widgets/controls",
      "layout": "IPY_MODEL_87015cea91394c3f88ceadd04a2561d9"
     }
    },
    "60a18c64c0504a98969e9ac83c171331": {
     "model_module": "@jupyter-widgets/controls",
     "model_name": "FloatProgressModel",
     "model_module_version": "1.5.0",
     "state": {
      "_view_name": "ProgressView",
      "style": "IPY_MODEL_e06fdd749fd846e1ab9c641ff12439e8",
      "_dom_classes": [],
      "description": "",
      "_model_name": "FloatProgressModel",
      "bar_style": "success",
      "max": 48,
      "_view_module": "@jupyter-widgets/controls",
      "_model_module_version": "1.5.0",
      "value": 48,
      "_view_count": null,
      "_view_module_version": "1.5.0",
      "orientation": "horizontal",
      "min": 0,
      "description_tooltip": null,
      "_model_module": "@jupyter-widgets/controls",
      "layout": "IPY_MODEL_9414d96e7e2b4944b25039bb8dbe4236"
     }
    },
    "98a03b350b9e4512bb95892cd1638ba4": {
     "model_module": "@jupyter-widgets/controls",
     "model_name": "HTMLModel",
     "model_module_version": "1.5.0",
     "state": {
      "_view_name": "HTMLView",
      "style": "IPY_MODEL_fd4cb56ae9a94876827a1ed13d257d0e",
      "_dom_classes": [],
      "description": "",
      "_model_name": "HTMLModel",
      "placeholder": "​",
      "_view_module": "@jupyter-widgets/controls",
      "_model_module_version": "1.5.0",
      "value": " 48/48 [00:12&lt;00:00,  3.95it/s]",
      "_view_count": null,
      "_view_module_version": "1.5.0",
      "description_tooltip": null,
      "_model_module": "@jupyter-widgets/controls",
      "layout": "IPY_MODEL_fa0c5e1e033841109b5c2776166692cc"
     }
    },
    "f6bea77cedb140e19766a3adbe23acfb": {
     "model_module": "@jupyter-widgets/controls",
     "model_name": "DescriptionStyleModel",
     "model_module_version": "1.5.0",
     "state": {
      "_view_name": "StyleView",
      "_model_name": "DescriptionStyleModel",
      "description_width": "",
      "_view_module": "@jupyter-widgets/base",
      "_model_module_version": "1.5.0",
      "_view_count": null,
      "_view_module_version": "1.2.0",
      "_model_module": "@jupyter-widgets/controls"
     }
    },
    "87015cea91394c3f88ceadd04a2561d9": {
     "model_module": "@jupyter-widgets/base",
     "model_name": "LayoutModel",
     "model_module_version": "1.2.0",
     "state": {
      "_view_name": "LayoutView",
      "grid_template_rows": null,
      "right": null,
      "justify_content": null,
      "_view_module": "@jupyter-widgets/base",
      "overflow": null,
      "_model_module_version": "1.2.0",
      "_view_count": null,
      "flex_flow": null,
      "width": null,
      "min_width": null,
      "border": null,
      "align_items": null,
      "bottom": null,
      "_model_module": "@jupyter-widgets/base",
      "top": null,
      "grid_column": null,
      "overflow_y": null,
      "overflow_x": null,
      "grid_auto_flow": null,
      "grid_area": null,
      "grid_template_columns": null,
      "flex": null,
      "_model_name": "LayoutModel",
      "justify_items": null,
      "grid_row": null,
      "max_height": null,
      "align_content": null,
      "visibility": null,
      "align_self": null,
      "height": null,
      "min_height": null,
      "padding": null,
      "grid_auto_rows": null,
      "grid_gap": null,
      "max_width": null,
      "order": null,
      "_view_module_version": "1.2.0",
      "grid_template_areas": null,
      "object_position": null,
      "object_fit": null,
      "grid_auto_columns": null,
      "margin": null,
      "display": null,
      "left": null
     }
    },
    "e06fdd749fd846e1ab9c641ff12439e8": {
     "model_module": "@jupyter-widgets/controls",
     "model_name": "ProgressStyleModel",
     "model_module_version": "1.5.0",
     "state": {
      "_view_name": "StyleView",
      "_model_name": "ProgressStyleModel",
      "description_width": "",
      "_view_module": "@jupyter-widgets/base",
      "_model_module_version": "1.5.0",
      "_view_count": null,
      "_view_module_version": "1.2.0",
      "bar_color": null,
      "_model_module": "@jupyter-widgets/controls"
     }
    },
    "9414d96e7e2b4944b25039bb8dbe4236": {
     "model_module": "@jupyter-widgets/base",
     "model_name": "LayoutModel",
     "model_module_version": "1.2.0",
     "state": {
      "_view_name": "LayoutView",
      "grid_template_rows": null,
      "right": null,
      "justify_content": null,
      "_view_module": "@jupyter-widgets/base",
      "overflow": null,
      "_model_module_version": "1.2.0",
      "_view_count": null,
      "flex_flow": null,
      "width": null,
      "min_width": null,
      "border": null,
      "align_items": null,
      "bottom": null,
      "_model_module": "@jupyter-widgets/base",
      "top": null,
      "grid_column": null,
      "overflow_y": null,
      "overflow_x": null,
      "grid_auto_flow": null,
      "grid_area": null,
      "grid_template_columns": null,
      "flex": null,
      "_model_name": "LayoutModel",
      "justify_items": null,
      "grid_row": null,
      "max_height": null,
      "align_content": null,
      "visibility": null,
      "align_self": null,
      "height": null,
      "min_height": null,
      "padding": null,
      "grid_auto_rows": null,
      "grid_gap": null,
      "max_width": null,
      "order": null,
      "_view_module_version": "1.2.0",
      "grid_template_areas": null,
      "object_position": null,
      "object_fit": null,
      "grid_auto_columns": null,
      "margin": null,
      "display": null,
      "left": null
     }
    },
    "fd4cb56ae9a94876827a1ed13d257d0e": {
     "model_module": "@jupyter-widgets/controls",
     "model_name": "DescriptionStyleModel",
     "model_module_version": "1.5.0",
     "state": {
      "_view_name": "StyleView",
      "_model_name": "DescriptionStyleModel",
      "description_width": "",
      "_view_module": "@jupyter-widgets/base",
      "_model_module_version": "1.5.0",
      "_view_count": null,
      "_view_module_version": "1.2.0",
      "_model_module": "@jupyter-widgets/controls"
     }
    },
    "fa0c5e1e033841109b5c2776166692cc": {
     "model_module": "@jupyter-widgets/base",
     "model_name": "LayoutModel",
     "model_module_version": "1.2.0",
     "state": {
      "_view_name": "LayoutView",
      "grid_template_rows": null,
      "right": null,
      "justify_content": null,
      "_view_module": "@jupyter-widgets/base",
      "overflow": null,
      "_model_module_version": "1.2.0",
      "_view_count": null,
      "flex_flow": null,
      "width": null,
      "min_width": null,
      "border": null,
      "align_items": null,
      "bottom": null,
      "_model_module": "@jupyter-widgets/base",
      "top": null,
      "grid_column": null,
      "overflow_y": null,
      "overflow_x": null,
      "grid_auto_flow": null,
      "grid_area": null,
      "grid_template_columns": null,
      "flex": null,
      "_model_name": "LayoutModel",
      "justify_items": null,
      "grid_row": null,
      "max_height": null,
      "align_content": null,
      "visibility": null,
      "align_self": null,
      "height": null,
      "min_height": null,
      "padding": null,
      "grid_auto_rows": null,
      "grid_gap": null,
      "max_width": null,
      "order": null,
      "_view_module_version": "1.2.0",
      "grid_template_areas": null,
      "object_position": null,
      "object_fit": null,
      "grid_auto_columns": null,
      "margin": null,
      "display": null,
      "left": null
     }
    },
    "815a5ad344234fc99ae1c4dce6c47752": {
     "model_module": "@jupyter-widgets/controls",
     "model_name": "HBoxModel",
     "model_module_version": "1.5.0",
     "state": {
      "_view_name": "HBoxView",
      "_dom_classes": [],
      "_model_name": "HBoxModel",
      "_view_module": "@jupyter-widgets/controls",
      "_model_module_version": "1.5.0",
      "_view_count": null,
      "_view_module_version": "1.5.0",
      "box_style": "",
      "layout": "IPY_MODEL_13bdd2b0ba1248c69b636709760503b5",
      "_model_module": "@jupyter-widgets/controls",
      "children": [
       "IPY_MODEL_8da673f5fa1c403b8fc173309a2390c4",
       "IPY_MODEL_99c0c94c49a245bc957f1f82a55a6b1f",
       "IPY_MODEL_b970ab7a411842de8ea3a5c5a5447e05"
      ]
     }
    },
    "13bdd2b0ba1248c69b636709760503b5": {
     "model_module": "@jupyter-widgets/base",
     "model_name": "LayoutModel",
     "model_module_version": "1.2.0",
     "state": {
      "_view_name": "LayoutView",
      "grid_template_rows": null,
      "right": null,
      "justify_content": null,
      "_view_module": "@jupyter-widgets/base",
      "overflow": null,
      "_model_module_version": "1.2.0",
      "_view_count": null,
      "flex_flow": null,
      "width": null,
      "min_width": null,
      "border": null,
      "align_items": null,
      "bottom": null,
      "_model_module": "@jupyter-widgets/base",
      "top": null,
      "grid_column": null,
      "overflow_y": null,
      "overflow_x": null,
      "grid_auto_flow": null,
      "grid_area": null,
      "grid_template_columns": null,
      "flex": null,
      "_model_name": "LayoutModel",
      "justify_items": null,
      "grid_row": null,
      "max_height": null,
      "align_content": null,
      "visibility": null,
      "align_self": null,
      "height": null,
      "min_height": null,
      "padding": null,
      "grid_auto_rows": null,
      "grid_gap": null,
      "max_width": null,
      "order": null,
      "_view_module_version": "1.2.0",
      "grid_template_areas": null,
      "object_position": null,
      "object_fit": null,
      "grid_auto_columns": null,
      "margin": null,
      "display": null,
      "left": null
     }
    },
    "8da673f5fa1c403b8fc173309a2390c4": {
     "model_module": "@jupyter-widgets/controls",
     "model_name": "HTMLModel",
     "model_module_version": "1.5.0",
     "state": {
      "_view_name": "HTMLView",
      "style": "IPY_MODEL_4f8d0e32f9fb4af28aa0c94fc44e38a4",
      "_dom_classes": [],
      "description": "",
      "_model_name": "HTMLModel",
      "placeholder": "​",
      "_view_module": "@jupyter-widgets/controls",
      "_model_module_version": "1.5.0",
      "value": "100%",
      "_view_count": null,
      "_view_module_version": "1.5.0",
      "description_tooltip": null,
      "_model_module": "@jupyter-widgets/controls",
      "layout": "IPY_MODEL_8bd9fca934a24b7d8f8a25caa34bc935"
     }
    },
    "99c0c94c49a245bc957f1f82a55a6b1f": {
     "model_module": "@jupyter-widgets/controls",
     "model_name": "FloatProgressModel",
     "model_module_version": "1.5.0",
     "state": {
      "_view_name": "ProgressView",
      "style": "IPY_MODEL_743af9e34b9146249b3f00240f4e7b2b",
      "_dom_classes": [],
      "description": "",
      "_model_name": "FloatProgressModel",
      "bar_style": "success",
      "max": 48,
      "_view_module": "@jupyter-widgets/controls",
      "_model_module_version": "1.5.0",
      "value": 48,
      "_view_count": null,
      "_view_module_version": "1.5.0",
      "orientation": "horizontal",
      "min": 0,
      "description_tooltip": null,
      "_model_module": "@jupyter-widgets/controls",
      "layout": "IPY_MODEL_864c8d55aa5241938a52cf3a999e864d"
     }
    },
    "b970ab7a411842de8ea3a5c5a5447e05": {
     "model_module": "@jupyter-widgets/controls",
     "model_name": "HTMLModel",
     "model_module_version": "1.5.0",
     "state": {
      "_view_name": "HTMLView",
      "style": "IPY_MODEL_035cfea09beb439484e9769517b35795",
      "_dom_classes": [],
      "description": "",
      "_model_name": "HTMLModel",
      "placeholder": "​",
      "_view_module": "@jupyter-widgets/controls",
      "_model_module_version": "1.5.0",
      "value": " 48/48 [00:12&lt;00:00,  4.19it/s]",
      "_view_count": null,
      "_view_module_version": "1.5.0",
      "description_tooltip": null,
      "_model_module": "@jupyter-widgets/controls",
      "layout": "IPY_MODEL_1540ac0d686d46c1a8ef31084b9da825"
     }
    },
    "4f8d0e32f9fb4af28aa0c94fc44e38a4": {
     "model_module": "@jupyter-widgets/controls",
     "model_name": "DescriptionStyleModel",
     "model_module_version": "1.5.0",
     "state": {
      "_view_name": "StyleView",
      "_model_name": "DescriptionStyleModel",
      "description_width": "",
      "_view_module": "@jupyter-widgets/base",
      "_model_module_version": "1.5.0",
      "_view_count": null,
      "_view_module_version": "1.2.0",
      "_model_module": "@jupyter-widgets/controls"
     }
    },
    "8bd9fca934a24b7d8f8a25caa34bc935": {
     "model_module": "@jupyter-widgets/base",
     "model_name": "LayoutModel",
     "model_module_version": "1.2.0",
     "state": {
      "_view_name": "LayoutView",
      "grid_template_rows": null,
      "right": null,
      "justify_content": null,
      "_view_module": "@jupyter-widgets/base",
      "overflow": null,
      "_model_module_version": "1.2.0",
      "_view_count": null,
      "flex_flow": null,
      "width": null,
      "min_width": null,
      "border": null,
      "align_items": null,
      "bottom": null,
      "_model_module": "@jupyter-widgets/base",
      "top": null,
      "grid_column": null,
      "overflow_y": null,
      "overflow_x": null,
      "grid_auto_flow": null,
      "grid_area": null,
      "grid_template_columns": null,
      "flex": null,
      "_model_name": "LayoutModel",
      "justify_items": null,
      "grid_row": null,
      "max_height": null,
      "align_content": null,
      "visibility": null,
      "align_self": null,
      "height": null,
      "min_height": null,
      "padding": null,
      "grid_auto_rows": null,
      "grid_gap": null,
      "max_width": null,
      "order": null,
      "_view_module_version": "1.2.0",
      "grid_template_areas": null,
      "object_position": null,
      "object_fit": null,
      "grid_auto_columns": null,
      "margin": null,
      "display": null,
      "left": null
     }
    },
    "743af9e34b9146249b3f00240f4e7b2b": {
     "model_module": "@jupyter-widgets/controls",
     "model_name": "ProgressStyleModel",
     "model_module_version": "1.5.0",
     "state": {
      "_view_name": "StyleView",
      "_model_name": "ProgressStyleModel",
      "description_width": "",
      "_view_module": "@jupyter-widgets/base",
      "_model_module_version": "1.5.0",
      "_view_count": null,
      "_view_module_version": "1.2.0",
      "bar_color": null,
      "_model_module": "@jupyter-widgets/controls"
     }
    },
    "864c8d55aa5241938a52cf3a999e864d": {
     "model_module": "@jupyter-widgets/base",
     "model_name": "LayoutModel",
     "model_module_version": "1.2.0",
     "state": {
      "_view_name": "LayoutView",
      "grid_template_rows": null,
      "right": null,
      "justify_content": null,
      "_view_module": "@jupyter-widgets/base",
      "overflow": null,
      "_model_module_version": "1.2.0",
      "_view_count": null,
      "flex_flow": null,
      "width": null,
      "min_width": null,
      "border": null,
      "align_items": null,
      "bottom": null,
      "_model_module": "@jupyter-widgets/base",
      "top": null,
      "grid_column": null,
      "overflow_y": null,
      "overflow_x": null,
      "grid_auto_flow": null,
      "grid_area": null,
      "grid_template_columns": null,
      "flex": null,
      "_model_name": "LayoutModel",
      "justify_items": null,
      "grid_row": null,
      "max_height": null,
      "align_content": null,
      "visibility": null,
      "align_self": null,
      "height": null,
      "min_height": null,
      "padding": null,
      "grid_auto_rows": null,
      "grid_gap": null,
      "max_width": null,
      "order": null,
      "_view_module_version": "1.2.0",
      "grid_template_areas": null,
      "object_position": null,
      "object_fit": null,
      "grid_auto_columns": null,
      "margin": null,
      "display": null,
      "left": null
     }
    },
    "035cfea09beb439484e9769517b35795": {
     "model_module": "@jupyter-widgets/controls",
     "model_name": "DescriptionStyleModel",
     "model_module_version": "1.5.0",
     "state": {
      "_view_name": "StyleView",
      "_model_name": "DescriptionStyleModel",
      "description_width": "",
      "_view_module": "@jupyter-widgets/base",
      "_model_module_version": "1.5.0",
      "_view_count": null,
      "_view_module_version": "1.2.0",
      "_model_module": "@jupyter-widgets/controls"
     }
    },
    "1540ac0d686d46c1a8ef31084b9da825": {
     "model_module": "@jupyter-widgets/base",
     "model_name": "LayoutModel",
     "model_module_version": "1.2.0",
     "state": {
      "_view_name": "LayoutView",
      "grid_template_rows": null,
      "right": null,
      "justify_content": null,
      "_view_module": "@jupyter-widgets/base",
      "overflow": null,
      "_model_module_version": "1.2.0",
      "_view_count": null,
      "flex_flow": null,
      "width": null,
      "min_width": null,
      "border": null,
      "align_items": null,
      "bottom": null,
      "_model_module": "@jupyter-widgets/base",
      "top": null,
      "grid_column": null,
      "overflow_y": null,
      "overflow_x": null,
      "grid_auto_flow": null,
      "grid_area": null,
      "grid_template_columns": null,
      "flex": null,
      "_model_name": "LayoutModel",
      "justify_items": null,
      "grid_row": null,
      "max_height": null,
      "align_content": null,
      "visibility": null,
      "align_self": null,
      "height": null,
      "min_height": null,
      "padding": null,
      "grid_auto_rows": null,
      "grid_gap": null,
      "max_width": null,
      "order": null,
      "_view_module_version": "1.2.0",
      "grid_template_areas": null,
      "object_position": null,
      "object_fit": null,
      "grid_auto_columns": null,
      "margin": null,
      "display": null,
      "left": null
     }
    }
   }
  }
 },
 "cells": [
  {
   "cell_type": "markdown",
   "source": [
    "# **Rock-Paper-Scissor Competition (40%)**\n",
    "For this competition, we will use the Game (https://cloudstor.aarnet.edu.au/plus/s/6QNijohkrfMZ0H7) dataset. This dataset contains images of hand gestures from the Rock-Paper-Scissors game. \n",
    "\n",
    "The dataset contains a total of 2188 images corresponding to the 'Rock' (726 images), 'Paper' (710 images) and 'Scissors' (752 images) hand gestures of the Rock-Paper-Scissors game. All image are taken on a green background with relatively consistent ligithing and white balance.\n",
    "\n",
    "All images are RGB images of 300 pixels wide by 200 pixels high in .png format. The images are separated in three sub-folders named 'rock', 'paper' and 'scissors' according to their respective class.\n",
    "\n",
    "The task is to categorize each hand guesters into one of three categories (Rock/Paper/Scissor). \n",
    "\n",
    "We provide a baseline by the following steps:\n",
    "\n",
    "\n",
    "*   Loding and Analysing the dataset using torchvision.\n",
    "*   Defining a simple convolutional neural network. \n",
    "*   How to use existing loss function for the model learning. \n",
    "*   Train the network on the training data. \n",
    "*   Test the trained network on the testing data. \n",
    "\n",
    "The following trick/tweak(s) could be considered:\n",
    "-------\n",
    "1. Change of advanced training parameters: Learning Rate, Optimizer, Batch-size, Number of Max Epochs, and Drop-out. \n",
    "2. Use of a new loss function.\n",
    "3. Data augmentation\n",
    "4. Architectural Changes: Batch Normalization, Residual layers, Attention Block, and other varients.\n",
    "\n",
    "Your code should be modified from the provided baseline. A pdf report is required to explain the tricks you employed, and the imporvements they achieved.\n",
    "Marking Rules:\n",
    "-------\n",
    "We will mark the competition based on the final test accuracy on testing images and your report.\n",
    "\n",
    "Final mark = acc_mark + efficiency mark + report mark + bonus mark\n",
    "###Acc_mark 15:\n",
    "\n",
    "We will rank all the submission results based on their test accuracy. The top 30% of the students will get full marks.\n",
    "\n",
    "\n",
    "|Accuracy|Mark|\n",
    "|---|---|\n",
    "| Top 30% in the class|          15|\n",
    "|30%-50%|         11|\n",
    "|50%-80%  |        7|\n",
    "| 80%-90%  |      3|\n",
    "| 90%-100%  |      1|\n",
    "|Not implemented| 0|\n",
    "\n",
    "###Efficiency mark 5:\n",
    "\n",
    "Efficiency is evaluated by the computational costs (flops: https://en.wikipedia.org/wiki/FLOPS). Please report the computational costs for your final model and attach the code/process about how you calculate it.\n",
    "\n",
    "|Efficiency|Mark|\n",
    "|---|---|\n",
    "| Top 30% in the class|          5|\n",
    "|30%-50%|         4|\n",
    "|50%-80%  |        3|\n",
    "| 80%-90%  |      2|\n",
    "| 90%-100%  |      2|\n",
    "|Not implemented| 0|\n",
    "\n",
    "###Report mark 20:\n",
    "1. Introduction and your understanding to the baseline model: 2 points\n",
    "\n",
    "2. Employed more than three tricks with ablation studies to improve the accuracy: 6 points\n",
    "\n",
    "Clearly explain the reference, motivation and design choice for each trick/tweak(s). Providing the experimental results in tables.\n",
    "Example table:\n",
    "\n",
    "|Trick1|Trick2|Trick3|Accuracy|\n",
    "|---|---|---|---|\n",
    "|N|N|N|60%|\n",
    "|Y|N|N|65%|\n",
    "|Y|Y|N|77%|\n",
    "|Y|Y|Y|82%|\n",
    "\n",
    "Observation and discussion based on the experiment results.\n",
    "\n",
    "3. Expaination of the methods on reducing the computational cost and/or improve the trade-off between accuracy and efficiency: 4 points\n",
    "\n",
    "4. Explaination of the code implementation：3 points\n",
    "\n",
    "5. Visulization results: e.g. training and testing accuracy/loss for each model, case studies: 3 points\n",
    "\n",
    "6. Open ended:  Limitations, conclusions, failure cases analysis...: 2 points\n",
    "\n",
    "###Bouns mark:\n",
    "1. Top three results: 2 points\n",
    "2. Fancy designs: 2 points"
   ],
   "metadata": {
    "id": "uawNySXlUO-P",
    "pycharm": {
     "name": "#%% md\n"
    }
   }
  },
  {
   "cell_type": "code",
   "source": [
    "##################################################################################################################################\n",
    "### Subject: Computer Vision \n",
    "### Year: 2022\n",
    "### Student Name: Xuhui Wang, Renyuan Fei\n",
    "### Student ID: a1809872, a1810111\n",
    "### Comptetion Name: Rock-Paper-Scissor Classification Competition\n",
    "### Final Results:\n",
    "### ACC:         FLOPs:\n",
    "##################################################################################################################################"
   ],
   "metadata": {
    "id": "4wHkPrQfVhPI",
    "pycharm": {
     "name": "#%%\n"
    }
   },
   "execution_count": 68,
   "outputs": []
  },
  {
   "cell_type": "code",
   "execution_count": 69,
   "outputs": [],
   "source": [
    "def save_network(network, network_label, epoch_label):\n",
    "    save_dir = './Model/'\n",
    "    save_filename = '%s_net_%s_params.pkl' % (epoch_label, network_label)\n",
    "    save_path = os.path.join(save_dir, save_filename)\n",
    "    torch.save(network.state_dict(), save_path)\n",
    "    print(save_filename,' 已储存')"
   ],
   "metadata": {
    "collapsed": false,
    "pycharm": {
     "name": "#%%\n"
    }
   }
  },
  {
   "cell_type": "code",
   "execution_count": 70,
   "metadata": {
    "id": "nAea9HHKomad",
    "pycharm": {
     "name": "#%%\n"
    }
   },
   "outputs": [
    {
     "name": "stderr",
     "output_type": "stream",
     "text": [
      "UsageError: Line magic function `%` not found.\n"
     ]
    }
   ],
   "source": [
    "# Importing libraries.\n",
    "from visdom import Visdom\n",
    "import time\n",
    "import os\n",
    "import random\n",
    "import numpy as np\n",
    "import torch\n",
    "import torch.nn as nn\n",
    "import torch.nn.functional as F\n",
    "from tqdm.notebook import tqdm\n",
    "\n",
    "# To avoid non-essential warnings \n",
    "import warnings\n",
    "\n",
    "warnings.filterwarnings ('ignore')\n",
    "\n",
    "from torchvision import datasets, transforms, models\n",
    "from torchvision.datasets import ImageFolder\n",
    "from torchvision.transforms import ToTensor\n",
    "from torchvision.utils import make_grid\n",
    "from torch.utils.data import random_split\n",
    "from torch.utils.data.dataloader import DataLoader\n",
    "import matplotlib.pyplot as plt\n",
    "% matplotlib inline"
   ]
  },
  {
   "cell_type": "code",
   "source": [
    "# Mounting G-Drive to get your dataset. \n",
    "# To access Google Colab GPU; Go To: Edit >>> Network Settings >>> Hardware Accelarator: Select GPU. \n",
    "# Reference: https://towardsdatascience.com/google-colab-import-and-export-datasets-eccf801e2971 \n",
    "# from google.colab import drive\n",
    "# drive.mount('/content/drive')\n",
    "\n",
    "# Dataset path.\n",
    "data_dir = './game/TRAIN'\n",
    "# classes = os.listdir(data_dir)"
   ],
   "metadata": {
    "colab": {
     "base_uri": "https://localhost:8080/"
    },
    "id": "Mkadj8e1sCQS",
    "outputId": "35a157ce-9e2f-4b2c-9b11-b38faf464dc8",
    "pycharm": {
     "name": "#%%\n"
    }
   },
   "execution_count": 71,
   "outputs": []
  },
  {
   "cell_type": "code",
   "source": [
    "# Performing Image Transformations.\n",
    "##Hints: Data Augmentation can be applied here. Have a look on RandomFlip, RandomRotation... \n",
    "train_transform = transforms.Compose (\n",
    "        [\n",
    "            transforms.Resize (40),  # resize shortest side Hints: larger input size can lead to higher performance\n",
    "            transforms.CenterCrop (40),  # crop longest side Hints: crop size is usuallt smaller than the resize size\n",
    "            transforms.ToTensor (),\n",
    "            transforms.Normalize (\n",
    "                    [0.485, 0.456, 0.406],\n",
    "                    [0.229, 0.224, 0.225]\n",
    "                    )\n",
    "            ]\n",
    "        )"
   ],
   "metadata": {
    "id": "5F9VBdNcsGEI",
    "pycharm": {
     "name": "#%%\n"
    }
   },
   "execution_count": 72,
   "outputs": []
  },
  {
   "cell_type": "code",
   "source": [
    "# Checking the dataset training size.\n",
    "dataset = ImageFolder (data_dir, transform=train_transform)\n",
    "print ('Size of training dataset :', len (dataset))"
   ],
   "metadata": {
    "colab": {
     "base_uri": "https://localhost:8080/"
    },
    "id": "1lgLwj4VsH5y",
    "outputId": "003ca5cd-fd91-464a-eb8c-492397957d05",
    "pycharm": {
     "name": "#%%\n"
    }
   },
   "execution_count": 73,
   "outputs": [
    {
     "name": "stdout",
     "output_type": "stream",
     "text": [
      "Size of training dataset : 2188\n"
     ]
    }
   ]
  },
  {
   "cell_type": "code",
   "source": [
    "# Viewing one of images shape.\n",
    "img, label = dataset[100]\n",
    "print (img.shape)\n",
    "print (label)"
   ],
   "metadata": {
    "colab": {
     "base_uri": "https://localhost:8080/"
    },
    "id": "C_W_Uf_msJny",
    "outputId": "fc93a788-73e9-43a0-f79c-9f8ed9ed9ec1",
    "pycharm": {
     "name": "#%%\n"
    }
   },
   "execution_count": 74,
   "outputs": [
    {
     "name": "stdout",
     "output_type": "stream",
     "text": [
      "torch.Size([3, 40, 40])\n",
      "0\n"
     ]
    }
   ]
  },
  {
   "cell_type": "code",
   "source": [
    "# Preview one of the images..\n",
    "def show_image (img, label):\n",
    "    print ('Label: ', dataset.classes[label], \"(\" + str (label) + \")\")\n",
    "    plt.imshow (img.permute (1, 2, 0))"
   ],
   "metadata": {
    "id": "6UTOv1u_sLbu",
    "pycharm": {
     "name": "#%%\n"
    }
   },
   "execution_count": 75,
   "outputs": []
  },
  {
   "cell_type": "code",
   "source": [
    "show_image (*dataset[2100])"
   ],
   "metadata": {
    "colab": {
     "base_uri": "https://localhost:8080/",
     "height": 302
    },
    "id": "eQzaOFkKsNGu",
    "outputId": "b2d89988-6551-41a9-ad3a-360905aa0ff9",
    "pycharm": {
     "name": "#%%\n"
    }
   },
   "execution_count": 76,
   "outputs": [
    {
     "name": "stderr",
     "output_type": "stream",
     "text": [
      "Clipping input data to the valid range for imshow with RGB data ([0..1] for floats or [0..255] for integers).\n"
     ]
    },
    {
     "name": "stdout",
     "output_type": "stream",
     "text": [
      "Label:  scissors (2)\n"
     ]
    },
    {
     "data": {
      "text/plain": "<Figure size 432x288 with 1 Axes>",
      "image/png": "[encoded data removed]"
     },
     "metadata": {
      "needs_background": "light"
     },
     "output_type": "display_data"
    }
   ]
  },
  {
   "cell_type": "code",
   "source": [
    "# Setting seed so that value won't change everytime. \n",
    "# Splitting the dataset to training, validation, and testing category.\n",
    "torch.manual_seed (10)\n",
    "val_size = len (dataset) // 10\n",
    "test_size = len (dataset) // 5\n",
    "train_size = len (dataset) - val_size - test_size"
   ],
   "metadata": {
    "id": "VRXOQ-_4sO2L",
    "pycharm": {
     "name": "#%%\n"
    }
   },
   "execution_count": 77,
   "outputs": []
  },
  {
   "cell_type": "code",
   "source": [
    "# Random Splitting. \n",
    "train_ds, val_ds, test_ds = random_split (dataset, [train_size, val_size, test_size])\n",
    "len (train_ds), len (val_ds), len (test_ds)"
   ],
   "metadata": {
    "colab": {
     "base_uri": "https://localhost:8080/"
    },
    "id": "StEh6Ea0sRLF",
    "outputId": "5ff56f06-6afd-4ccf-98c5-18e53d08360b",
    "pycharm": {
     "name": "#%%\n"
    }
   },
   "execution_count": 78,
   "outputs": [
    {
     "data": {
      "text/plain": "(1533, 218, 437)"
     },
     "execution_count": 78,
     "metadata": {},
     "output_type": "execute_result"
    }
   ]
  },
  {
   "cell_type": "code",
   "execution_count": 115,
   "outputs": [],
   "source": [
    "batch_size = 64\n",
    "train_loader = DataLoader (train_ds, batch_size, shuffle=True, num_workers=2, pin_memory=True)\n",
    "val_loader = DataLoader (val_ds, batch_size * 2, num_workers=2, pin_memory=True)\n",
    "test_loader = DataLoader (test_ds, batch_size * 2, num_workers=2, pin_memory=True)"
   ],
   "metadata": {
    "collapsed": false,
    "pycharm": {
     "name": "#%%\n"
    }
   }
  },
  {
   "cell_type": "code",
   "source": [
    "# Multiple images preview. \n",
    "for images, labels in train_loader:\n",
    "    fig, ax = plt.subplots (figsize=(18, 10))\n",
    "    ax.set_xticks ([])\n",
    "    ax.set_yticks ([])\n",
    "    ax.imshow (make_grid (images, nrow=16).permute (1, 2, 0))\n",
    "    break"
   ],
   "metadata": {
    "colab": {
     "base_uri": "https://localhost:8080/",
     "height": 305
    },
    "id": "hZ75Us1PsiS0",
    "outputId": "630bd2a6-ea16-4077-b09a-40dd91416aa7",
    "pycharm": {
     "name": "#%%\n"
    }
   },
   "execution_count": 98,
   "outputs": [
    {
     "name": "stderr",
     "output_type": "stream",
     "text": [
      "Clipping input data to the valid range for imshow with RGB data ([0..1] for floats or [0..255] for integers).\n"
     ]
    },
    {
     "data": {
      "text/plain": "<Figure size 1296x720 with 1 Axes>",
      "image/png": "[encoded data removed]"
     },
     "metadata": {},
     "output_type": "display_data"
    }
   ]
  },
  {
   "cell_type": "code",
   "execution_count": 99,
   "outputs": [],
   "source": [
    "# # 初始化visdom\n",
    "# # 实例化窗口\n",
    "# wind1 = Visdom(env='accuracy')\n",
    "# wind2 = Visdom(env='loss')\n",
    "# # 初始化窗口参数\n",
    "# wind1.line([[0.,0.]],[0.],win = 'train1',opts = dict(title = 'loss&acc1',legend = ['loss','acc']))\n",
    "# wind2.line([[0.,0.]],[0.],win = 'train2',opts = dict(title = 'loss&acc2',legend = ['loss','acc']))\n",
    "# step = 0"
   ],
   "metadata": {
    "collapsed": false,
    "pycharm": {
     "name": "#%%\n"
    }
   }
  },
  {
   "cell_type": "code",
   "source": [
    " # Baseline model class for training and validation purpose. Evaluation metric function - Accuracy.\n",
    "\n",
    "def accuracy (outputs, labels):\n",
    "    _, preds = torch.max (outputs, dim=1)\n",
    "    return torch.tensor (torch.sum (preds == labels).item () / len (preds))\n",
    "\n",
    "\n",
    "class ImageClassificationBase (nn.Module):\n",
    "    def training_step (self, batch):\n",
    "        images, labels = batch\n",
    "        out = self (images)  # Generate predictions\n",
    "        loss = F.cross_entropy (out, labels)  # Calculate loss\n",
    "        return loss\n",
    "\n",
    "    def validation_step (self, batch):\n",
    "        images, labels = batch\n",
    "        out = self (images)  # Generate predictions\n",
    "        # 验证 损失率\n",
    "        loss = F.cross_entropy (out, labels)  # Calculate loss\n",
    "        # 验证 准确率\n",
    "        acc = accuracy (out, labels)  # Calculate accuracy\n",
    "        return { 'val_loss': loss.detach (), 'val_acc': acc }\n",
    "\n",
    "    def validation_epoch_end (self, outputs):\n",
    "        batch_losses = [x['val_loss'] for x in outputs]\n",
    "        epoch_loss = torch.stack (batch_losses).mean ()  # Combine losses\n",
    "        batch_accs = [x['val_acc'] for x in outputs]\n",
    "        epoch_acc = torch.stack (batch_accs).mean ()  # Combine accuracies\n",
    "        return { 'val_loss': epoch_loss.item (), 'val_acc': epoch_acc.item () }\n",
    "\n",
    "    def epoch_end (self, epoch, result):\n",
    "        print (\n",
    "                \"Epoch [{}], train_loss: {:.4f}, val_loss: {:.4f}, val_acc: {:.4f}\".format (\n",
    "                        epoch, result['train_loss'], result['val_loss'], result['val_acc']\n",
    "                        )\n",
    "                )"
   ],
   "metadata": {
    "id": "7Aj84xVnsmVj",
    "pycharm": {
     "name": "#%%\n"
    }
   },
   "execution_count": 100,
   "outputs": []
  },
  {
   "cell_type": "code",
   "source": [
    "# Functions for evaluation and training.\n",
    "def evaluate (model, val_loader):\n",
    "    outputs = [model.validation_step (batch) for batch in val_loader]\n",
    "    return model.validation_epoch_end (outputs)\n",
    "\n",
    "\n",
    "def fit (epochs, lr, model, train_loader, val_loader, opt_func=torch.optim.SGD):\n",
    "    history = []\n",
    "    optimizer = opt_func (model.parameters (), lr)\n",
    "    for epoch in range (epochs):\n",
    "        # Training Phase \n",
    "        model.train ()\n",
    "        train_losses = []\n",
    "        for batch in tqdm (train_loader):\n",
    "            loss = model.training_step (batch)\n",
    "            train_losses.append (loss)\n",
    "            loss.backward ()\n",
    "            optimizer.step ()\n",
    "            optimizer.zero_grad ()\n",
    "        # Validation phase\n",
    "        result = evaluate (model, val_loader)\n",
    "        # 获取训练集损失率\n",
    "        result['train_loss'] = torch.stack (train_losses).mean ().item ()\n",
    "        model.epoch_end (epoch, result)\n",
    "        history.append (result)\n",
    "    return history"
   ],
   "metadata": {
    "id": "p8z5xrLbspAp",
    "pycharm": {
     "name": "#%%\n"
    }
   },
   "execution_count": 101,
   "outputs": []
  },
  {
   "cell_type": "code",
   "source": [
    "# To check wether Google Colab GPU has been assigned/not. \n",
    "\n",
    "def get_default_device ():\n",
    "    \"\"\"Pick GPU if available, else CPU\"\"\"\n",
    "    if torch.cuda.is_available ():\n",
    "        return torch.device ('cuda')\n",
    "    else:\n",
    "        return None\n",
    "\n",
    "\n",
    "def to_device (data, device):\n",
    "    \"\"\"Move tensor(s) to chosen device\"\"\"\n",
    "    if isinstance (data, (list, tuple)):\n",
    "        return [to_device (x, device) for x in data]\n",
    "    return data.to (device, non_blocking=True)\n",
    "\n",
    "\n",
    "class DeviceDataLoader ():\n",
    "    \"\"\"Wrap a dataloader to move data to a device\"\"\"\n",
    "\n",
    "    def __init__ (self, dl, device):\n",
    "        self.dl = dl\n",
    "        self.device = device\n",
    "\n",
    "    def __iter__ (self):\n",
    "        \"\"\"Yield a batch of data after moving it to device\"\"\"\n",
    "        for b in self.dl:\n",
    "            yield to_device (b, self.device)\n",
    "\n",
    "    def __len__ (self):\n",
    "        \"\"\"Number of batches\"\"\"\n",
    "        return len (self.dl)"
   ],
   "metadata": {
    "id": "dCCgOb3Ksr6T",
    "pycharm": {
     "name": "#%%\n"
    }
   },
   "execution_count": 102,
   "outputs": []
  },
  {
   "cell_type": "code",
   "source": [
    "device = get_default_device ()\n",
    "train_loader = DeviceDataLoader (train_loader, device)\n",
    "val_loader = DeviceDataLoader (val_loader, device)\n",
    "test_loader = DeviceDataLoader (test_loader, device)"
   ],
   "metadata": {
    "id": "U4Y321w9suir",
    "pycharm": {
     "name": "#%%\n"
    }
   },
   "execution_count": 103,
   "outputs": []
  },
  {
   "cell_type": "code",
   "source": [
    "input_size = 3 * 40 * 40\n",
    "output_size = 3"
   ],
   "metadata": {
    "id": "2XvdR0GZsv82",
    "pycharm": {
     "name": "#%%\n"
    }
   },
   "execution_count": 104,
   "outputs": []
  },
  {
   "cell_type": "code",
   "source": [
    "# Model - 7 Layer\n",
    "class CnnModel (ImageClassificationBase):\n",
    "    # classes为输出的大小\n",
    "    def __init__ (self, classes):\n",
    "        super ().__init__ ()\n",
    "        self.classes = classes\n",
    "        self.network = nn.Sequential (\n",
    "                nn.Conv2d (3, 100, kernel_size=3, padding=1),\n",
    "                nn.ReLU (),\n",
    "                nn.Conv2d (100, 150, kernel_size=3, stride=1, padding=1),\n",
    "                nn.ReLU (),\n",
    "                nn.MaxPool2d (2, 2),\n",
    "\n",
    "                nn.Conv2d (150, 200, kernel_size=3, stride=1, padding=1),\n",
    "                nn.ReLU (),\n",
    "                nn.Conv2d (200, 200, kernel_size=3, stride=1, padding=1),\n",
    "                nn.ReLU (),\n",
    "                nn.MaxPool2d (2, 2),\n",
    "\n",
    "                nn.Conv2d (200, 250, kernel_size=3, stride=1, padding=1),\n",
    "                nn.ReLU (),\n",
    "                nn.Conv2d (250, 250, kernel_size=3, stride=1, padding=1),\n",
    "                nn.ReLU (),\n",
    "                nn.MaxPool2d (2, 2),\n",
    "\n",
    "                nn.Flatten (),\n",
    "                nn.Linear (6250, 64),\n",
    "                nn.ReLU (),\n",
    "                nn.Linear (64, 32),\n",
    "                nn.ReLU (),\n",
    "                nn.Linear (32, 16),\n",
    "                nn.ReLU (),\n",
    "                nn.Linear (16, 8),\n",
    "                nn.ReLU (),\n",
    "                nn.Dropout (0.25),\n",
    "                nn.Linear (8, self.classes)\n",
    "                )\n",
    "\n",
    "    def forward (self, xb):\n",
    "        return self.network (xb)"
   ],
   "metadata": {
    "id": "4Tl6gXw1s2uT",
    "pycharm": {
     "name": "#%%\n"
    }
   },
   "execution_count": 105,
   "outputs": []
  },
  {
   "cell_type": "code",
   "source": [
    "# Model print\n",
    "num_classes = 3\n",
    "model = CnnModel (num_classes)\n",
    "model.cuda ()"
   ],
   "metadata": {
    "colab": {
     "base_uri": "https://localhost:8080/"
    },
    "id": "crPVXO__s4Rn",
    "outputId": "fdde96da-a2e9-48d1-c6c8-e5db839f6ec4",
    "pycharm": {
     "name": "#%%\n"
    }
   },
   "execution_count": 106,
   "outputs": [
    {
     "data": {
      "text/plain": "CnnModel(\n  (network): Sequential(\n    (0): Conv2d(3, 100, kernel_size=(3, 3), stride=(1, 1), padding=(1, 1))\n    (1): ReLU()\n    (2): Conv2d(100, 150, kernel_size=(3, 3), stride=(1, 1), padding=(1, 1))\n    (3): ReLU()\n    (4): MaxPool2d(kernel_size=2, stride=2, padding=0, dilation=1, ceil_mode=False)\n    (5): Conv2d(150, 200, kernel_size=(3, 3), stride=(1, 1), padding=(1, 1))\n    (6): ReLU()\n    (7): Conv2d(200, 200, kernel_size=(3, 3), stride=(1, 1), padding=(1, 1))\n    (8): ReLU()\n    (9): MaxPool2d(kernel_size=2, stride=2, padding=0, dilation=1, ceil_mode=False)\n    (10): Conv2d(200, 250, kernel_size=(3, 3), stride=(1, 1), padding=(1, 1))\n    (11): ReLU()\n    (12): Conv2d(250, 250, kernel_size=(3, 3), stride=(1, 1), padding=(1, 1))\n    (13): ReLU()\n    (14): MaxPool2d(kernel_size=2, stride=2, padding=0, dilation=1, ceil_mode=False)\n    (15): Flatten(start_dim=1, end_dim=-1)\n    (16): Linear(in_features=6250, out_features=64, bias=True)\n    (17): ReLU()\n    (18): Linear(in_features=64, out_features=32, bias=True)\n    (19): ReLU()\n    (20): Linear(in_features=32, out_features=16, bias=True)\n    (21): ReLU()\n    (22): Linear(in_features=16, out_features=8, bias=True)\n    (23): ReLU()\n    (24): Dropout(p=0.25, inplace=False)\n    (25): Linear(in_features=8, out_features=3, bias=True)\n  )\n)"
     },
     "execution_count": 106,
     "metadata": {},
     "output_type": "execute_result"
    }
   ]
  },
  {
   "cell_type": "code",
   "source": [
    "for images, labels in train_loader:\n",
    "    out = model (images)\n",
    "    print ('images.shape:', images.shape)\n",
    "    print ('out.shape:', out.shape)\n",
    "    print ('out[0]:', out[0])\n",
    "    break"
   ],
   "metadata": {
    "colab": {
     "base_uri": "https://localhost:8080/"
    },
    "id": "fIRKQ8sKs-kD",
    "outputId": "e953a499-3e3e-4eb3-c6f4-aa11ffda19ed",
    "pycharm": {
     "name": "#%%\n"
    }
   },
   "execution_count": 107,
   "outputs": [
    {
     "name": "stdout",
     "output_type": "stream",
     "text": [
      "images.shape: torch.Size([32, 3, 40, 40])\n",
      "out.shape: torch.Size([32, 3])\n",
      "out[0]: tensor([ 0.1333, -0.0433, -0.0740], device='cuda:0', grad_fn=<SelectBackward0>)\n"
     ]
    }
   ]
  },
  {
   "cell_type": "code",
   "source": [
    "train_dl = DeviceDataLoader (train_loader, device)\n",
    "val_dl = DeviceDataLoader (val_loader, device)\n",
    "to_device (model, device)"
   ],
   "metadata": {
    "colab": {
     "base_uri": "https://localhost:8080/"
    },
    "id": "hfL7daKDtB1u",
    "outputId": "999da280-3585-428f-857d-2c3ab35b34d2",
    "pycharm": {
     "name": "#%%\n"
    }
   },
   "execution_count": 108,
   "outputs": [
    {
     "data": {
      "text/plain": "CnnModel(\n  (network): Sequential(\n    (0): Conv2d(3, 100, kernel_size=(3, 3), stride=(1, 1), padding=(1, 1))\n    (1): ReLU()\n    (2): Conv2d(100, 150, kernel_size=(3, 3), stride=(1, 1), padding=(1, 1))\n    (3): ReLU()\n    (4): MaxPool2d(kernel_size=2, stride=2, padding=0, dilation=1, ceil_mode=False)\n    (5): Conv2d(150, 200, kernel_size=(3, 3), stride=(1, 1), padding=(1, 1))\n    (6): ReLU()\n    (7): Conv2d(200, 200, kernel_size=(3, 3), stride=(1, 1), padding=(1, 1))\n    (8): ReLU()\n    (9): MaxPool2d(kernel_size=2, stride=2, padding=0, dilation=1, ceil_mode=False)\n    (10): Conv2d(200, 250, kernel_size=(3, 3), stride=(1, 1), padding=(1, 1))\n    (11): ReLU()\n    (12): Conv2d(250, 250, kernel_size=(3, 3), stride=(1, 1), padding=(1, 1))\n    (13): ReLU()\n    (14): MaxPool2d(kernel_size=2, stride=2, padding=0, dilation=1, ceil_mode=False)\n    (15): Flatten(start_dim=1, end_dim=-1)\n    (16): Linear(in_features=6250, out_features=64, bias=True)\n    (17): ReLU()\n    (18): Linear(in_features=64, out_features=32, bias=True)\n    (19): ReLU()\n    (20): Linear(in_features=32, out_features=16, bias=True)\n    (21): ReLU()\n    (22): Linear(in_features=16, out_features=8, bias=True)\n    (23): ReLU()\n    (24): Dropout(p=0.25, inplace=False)\n    (25): Linear(in_features=8, out_features=3, bias=True)\n  )\n)"
     },
     "execution_count": 108,
     "metadata": {},
     "output_type": "execute_result"
    }
   ]
  },
  {
   "cell_type": "code",
   "source": [
    "@torch.no_grad ()\n",
    "def evaluate (model, val_loader):\n",
    "    model.eval ()\n",
    "    outputs = [model.validation_step (batch) for batch in val_loader]\n",
    "    return model.validation_epoch_end (outputs)\n",
    "\n",
    "\n",
    "def fit (epochs, lr, model, train_loader, val_loader, opt_func=torch.optim.SGD):\n",
    "    history = []\n",
    "    optimizer = opt_func (model.parameters (), lr)\n",
    "    for epoch in range (epochs):\n",
    "        # Training Phase \n",
    "        model.train ()\n",
    "        train_losses = []\n",
    "        for batch in tqdm (train_loader):\n",
    "            loss = model.training_step (batch)\n",
    "            train_losses.append (loss)\n",
    "            loss.backward ()\n",
    "            optimizer.step ()\n",
    "            optimizer.zero_grad ()\n",
    "        # Validation phase\n",
    "        result = evaluate (model, val_loader)\n",
    "        # 获取训练集损失值\n",
    "        result['train_loss'] = torch.stack (train_losses).mean ().item ()\n",
    "        model.epoch_end (epoch, result)\n",
    "        history.append (result)\n",
    "    return history"
   ],
   "metadata": {
    "id": "rhK2IHrftEHo",
    "pycharm": {
     "name": "#%%\n"
    }
   },
   "execution_count": 109,
   "outputs": []
  },
  {
   "cell_type": "code",
   "source": [
    "model = to_device (CnnModel (3), device)"
   ],
   "metadata": {
    "id": "74xXrYtotGpP",
    "pycharm": {
     "name": "#%%\n"
    }
   },
   "execution_count": 110,
   "outputs": []
  },
  {
   "cell_type": "code",
   "execution_count": 111,
   "outputs": [
    {
     "name": "stdout",
     "output_type": "stream",
     "text": [
      "212_net_0.001 0.9961_params.pkl\n"
     ]
    },
    {
     "data": {
      "text/plain": "<All keys matched successfully>"
     },
     "execution_count": 111,
     "metadata": {},
     "output_type": "execute_result"
    }
   ],
   "source": [
    "# 加载储存的参数\n",
    "epoch_label = 212\n",
    "network_label = '0.001 0.9961'\n",
    "\n",
    "# model_dir = os.path.join(opt.checkpoints_dir, opt.name)\n",
    "load_filename = '%s_net_%s_params.pkl' % (epoch_label, network_label)\n",
    "print(load_filename)\n",
    "load_path = os.path.join('./Model/', load_filename)\n",
    "model.load_state_dict(torch.load(load_path))"
   ],
   "metadata": {
    "collapsed": false,
    "pycharm": {
     "name": "#%%\n"
    }
   }
  },
  {
   "cell_type": "code",
   "source": [
    "history = [evaluate (model, val_loader)]\n",
    "history"
   ],
   "metadata": {
    "colab": {
     "base_uri": "https://localhost:8080/"
    },
    "id": "CnNp6XbftIhR",
    "outputId": "c189583e-b434-4c4a-8104-71347d542b3a",
    "pycharm": {
     "name": "#%%\n"
    }
   },
   "execution_count": 112,
   "outputs": [
    {
     "data": {
      "text/plain": "[{'val_loss': 0.1689748913049698, 'val_acc': 0.99609375}]"
     },
     "execution_count": 112,
     "metadata": {},
     "output_type": "execute_result"
    }
   ]
  },
  {
   "cell_type": "code",
   "source": [
    "num_epochs = 100\n",
    "opt_func = torch.optim.Adam\n",
    "lr = 0.00001"
   ],
   "metadata": {
    "id": "Hbp2a47DtKFp",
    "pycharm": {
     "name": "#%%\n"
    }
   },
   "execution_count": 113,
   "outputs": []
  },
  {
   "cell_type": "code",
   "source": [
    "history += fit (num_epochs, lr, model, train_dl, val_dl, opt_func)"
   ],
   "metadata": {
    "colab": {
     "base_uri": "https://localhost:8080/",
     "height": 264,
     "referenced_widgets": [
      "e42f5b6a30df40aaab6d6a10320808b8",
      "40edffa4fed2464a97a25c13b7bf5c11",
      "fd8d32ae615c47538d823dd5846f6c0a",
      "169c8d5b7af84fffb54666a4fb3766a6",
      "d7ba6912d80a439e8c438769efff8de9",
      "41e828ee88174c83b5ebcee7b567f10f",
      "75a8f8ad6e2f47198ea7f937078f0622",
      "97d90c92867240229d278a42d5a26f1e",
      "64f0ab9cc7044e85bbcaf47da855a5b4",
      "63c7a17ff04f47d39347132864bef9a6",
      "41a41271065a4a70ac6002df42823512",
      "2d3504c77e3f414097e374e5223d7152",
      "730bea7caf8f47869a8f037d99dc04cc",
      "e1114c18db0c410cb2250f2bfe7c4a33",
      "7371972b64964a368f225c3e9e4392c7",
      "4df21435a57249b7849a6eb731608f7f",
      "9f02d0c509e8462fa1567876162877a2",
      "669b85c0902d44d5860a5d3e036b7ff7",
      "4ad9292a8fbe4ddfa2c502871dc3548a",
      "99dd22e4931547e7be466b01899aba54",
      "64d57fa5c0d84c4da55a6b5059070f86",
      "0888516e630648e5be948e49199870d7",
      "ddbc089bef964bea9c90611332789a93",
      "99fcba6034ab485f8c8f81ee4d8a1f01",
      "dfccd371c78548bb912b9710c74b7d0b",
      "2558da827fcb46ab8882544b1060a9b9",
      "e7c3bb6f086e41e68d7e65d819c4c0d7",
      "0a03f268a12b418585dc7abf0532a6f0",
      "a83bf8e87a2548978820d3aa0cc0ce79",
      "9e6320898ce7411b83519f1d72ae2307",
      "65ce2c23039b403ab39a3d72aad8dc97",
      "0cca16dd06514d62b7372ec911c280b8",
      "b081d16bc0dd4b34a3807afa3f387e6a",
      "287aaf93bb5d480b9ea59eec797e5e19",
      "9788f0bccc2b4a03a6f3da41db13684b",
      "0a6ae862952d43c4a68646e742c0caf2",
      "60a18c64c0504a98969e9ac83c171331",
      "98a03b350b9e4512bb95892cd1638ba4",
      "f6bea77cedb140e19766a3adbe23acfb",
      "87015cea91394c3f88ceadd04a2561d9",
      "e06fdd749fd846e1ab9c641ff12439e8",
      "9414d96e7e2b4944b25039bb8dbe4236",
      "fd4cb56ae9a94876827a1ed13d257d0e",
      "fa0c5e1e033841109b5c2776166692cc",
      "815a5ad344234fc99ae1c4dce6c47752",
      "13bdd2b0ba1248c69b636709760503b5",
      "8da673f5fa1c403b8fc173309a2390c4",
      "99c0c94c49a245bc957f1f82a55a6b1f",
      "b970ab7a411842de8ea3a5c5a5447e05",
      "4f8d0e32f9fb4af28aa0c94fc44e38a4",
      "8bd9fca934a24b7d8f8a25caa34bc935",
      "743af9e34b9146249b3f00240f4e7b2b",
      "864c8d55aa5241938a52cf3a999e864d",
      "035cfea09beb439484e9769517b35795",
      "1540ac0d686d46c1a8ef31084b9da825"
     ]
    },
    "id": "-zVFA8NktLgV",
    "outputId": "8465f044-eed8-48c2-d2cc-a3204e46fec6",
    "pycharm": {
     "name": "#%%\n"
    }
   },
   "execution_count": 114,
   "outputs": [
    {
     "data": {
      "text/plain": "  0%|          | 0/48 [00:00<?, ?it/s]",
      "application/vnd.jupyter.widget-view+json": {
       "version_major": 2,
       "version_minor": 0,
       "model_id": "402f928f4597446f8faf5004dd5ab9c2"
      }
     },
     "metadata": {},
     "output_type": "display_data"
    },
    {
     "name": "stdout",
     "output_type": "stream",
     "text": [
      "Epoch [0], train_loss: 0.0250, val_loss: 0.1680, val_acc: 0.9961\n"
     ]
    },
    {
     "data": {
      "text/plain": "  0%|          | 0/48 [00:00<?, ?it/s]",
      "application/vnd.jupyter.widget-view+json": {
       "version_major": 2,
       "version_minor": 0,
       "model_id": "a49a6ece1d0c457bb5f2aea713a759d1"
      }
     },
     "metadata": {},
     "output_type": "display_data"
    },
    {
     "name": "stdout",
     "output_type": "stream",
     "text": [
      "Epoch [1], train_loss: 0.0279, val_loss: 0.1725, val_acc: 0.9961\n"
     ]
    },
    {
     "data": {
      "text/plain": "  0%|          | 0/48 [00:00<?, ?it/s]",
      "application/vnd.jupyter.widget-view+json": {
       "version_major": 2,
       "version_minor": 0,
       "model_id": "96833db3d541468bac4974de93c53fae"
      }
     },
     "metadata": {},
     "output_type": "display_data"
    },
    {
     "name": "stdout",
     "output_type": "stream",
     "text": [
      "Epoch [2], train_loss: 0.0273, val_loss: 0.1725, val_acc: 0.9961\n"
     ]
    },
    {
     "data": {
      "text/plain": "  0%|          | 0/48 [00:00<?, ?it/s]",
      "application/vnd.jupyter.widget-view+json": {
       "version_major": 2,
       "version_minor": 0,
       "model_id": "528cfd1153574d189a3d3d839ffd6f16"
      }
     },
     "metadata": {},
     "output_type": "display_data"
    },
    {
     "name": "stdout",
     "output_type": "stream",
     "text": [
      "Epoch [3], train_loss: 0.0271, val_loss: 0.1741, val_acc: 0.9961\n"
     ]
    },
    {
     "data": {
      "text/plain": "  0%|          | 0/48 [00:00<?, ?it/s]",
      "application/vnd.jupyter.widget-view+json": {
       "version_major": 2,
       "version_minor": 0,
       "model_id": "9c42cbfc78964a008b1e72b607682a3d"
      }
     },
     "metadata": {},
     "output_type": "display_data"
    },
    {
     "name": "stdout",
     "output_type": "stream",
     "text": [
      "Epoch [4], train_loss: 0.0267, val_loss: 0.1765, val_acc: 0.9961\n"
     ]
    },
    {
     "data": {
      "text/plain": "  0%|          | 0/48 [00:00<?, ?it/s]",
      "application/vnd.jupyter.widget-view+json": {
       "version_major": 2,
       "version_minor": 0,
       "model_id": "edfebbcddf6d4c3193b3318d17384cbd"
      }
     },
     "metadata": {},
     "output_type": "display_data"
    },
    {
     "name": "stdout",
     "output_type": "stream",
     "text": [
      "Epoch [5], train_loss: 0.0189, val_loss: 0.1788, val_acc: 0.9961\n"
     ]
    },
    {
     "data": {
      "text/plain": "  0%|          | 0/48 [00:00<?, ?it/s]",
      "application/vnd.jupyter.widget-view+json": {
       "version_major": 2,
       "version_minor": 0,
       "model_id": "21275f964ba642b6a3ff09328e4b2949"
      }
     },
     "metadata": {},
     "output_type": "display_data"
    },
    {
     "name": "stdout",
     "output_type": "stream",
     "text": [
      "Epoch [6], train_loss: 0.0262, val_loss: 0.1798, val_acc: 0.9961\n"
     ]
    },
    {
     "data": {
      "text/plain": "  0%|          | 0/48 [00:00<?, ?it/s]",
      "application/vnd.jupyter.widget-view+json": {
       "version_major": 2,
       "version_minor": 0,
       "model_id": "952d175855124cd0a98788de0fafb78b"
      }
     },
     "metadata": {},
     "output_type": "display_data"
    },
    {
     "name": "stdout",
     "output_type": "stream",
     "text": [
      "Epoch [7], train_loss: 0.0308, val_loss: 0.1815, val_acc: 0.9961\n"
     ]
    },
    {
     "data": {
      "text/plain": "  0%|          | 0/48 [00:00<?, ?it/s]",
      "application/vnd.jupyter.widget-view+json": {
       "version_major": 2,
       "version_minor": 0,
       "model_id": "f6dff8bd184c4dd9a605165d11762a97"
      }
     },
     "metadata": {},
     "output_type": "display_data"
    },
    {
     "name": "stdout",
     "output_type": "stream",
     "text": [
      "Epoch [8], train_loss: 0.0343, val_loss: 0.1804, val_acc: 0.9961\n"
     ]
    },
    {
     "data": {
      "text/plain": "  0%|          | 0/48 [00:00<?, ?it/s]",
      "application/vnd.jupyter.widget-view+json": {
       "version_major": 2,
       "version_minor": 0,
       "model_id": "819230d461e141e7bfd1e4de00a029c6"
      }
     },
     "metadata": {},
     "output_type": "display_data"
    },
    {
     "name": "stdout",
     "output_type": "stream",
     "text": [
      "Epoch [9], train_loss: 0.0265, val_loss: 0.1829, val_acc: 0.9961\n"
     ]
    },
    {
     "data": {
      "text/plain": "  0%|          | 0/48 [00:00<?, ?it/s]",
      "application/vnd.jupyter.widget-view+json": {
       "version_major": 2,
       "version_minor": 0,
       "model_id": "66ad1ffdfdc04e83a03d8cb36cb16637"
      }
     },
     "metadata": {},
     "output_type": "display_data"
    },
    {
     "name": "stdout",
     "output_type": "stream",
     "text": [
      "Epoch [10], train_loss: 0.0275, val_loss: 0.1848, val_acc: 0.9961\n"
     ]
    },
    {
     "data": {
      "text/plain": "  0%|          | 0/48 [00:00<?, ?it/s]",
      "application/vnd.jupyter.widget-view+json": {
       "version_major": 2,
       "version_minor": 0,
       "model_id": "bb8ae214ddc34b1a8804d7d3c24478ae"
      }
     },
     "metadata": {},
     "output_type": "display_data"
    },
    {
     "ename": "KeyboardInterrupt",
     "evalue": "",
     "output_type": "error",
     "traceback": [
      "\u001B[1;31m---------------------------------------------------------------------------\u001B[0m",
      "\u001B[1;31mKeyboardInterrupt\u001B[0m                         Traceback (most recent call last)",
      "Input \u001B[1;32mIn [114]\u001B[0m, in \u001B[0;36m<cell line: 1>\u001B[1;34m()\u001B[0m\n\u001B[1;32m----> 1\u001B[0m history \u001B[38;5;241m+\u001B[39m\u001B[38;5;241m=\u001B[39m \u001B[43mfit\u001B[49m\u001B[43m \u001B[49m\u001B[43m(\u001B[49m\u001B[43mnum_epochs\u001B[49m\u001B[43m,\u001B[49m\u001B[43m \u001B[49m\u001B[43mlr\u001B[49m\u001B[43m,\u001B[49m\u001B[43m \u001B[49m\u001B[43mmodel\u001B[49m\u001B[43m,\u001B[49m\u001B[43m \u001B[49m\u001B[43mtrain_dl\u001B[49m\u001B[43m,\u001B[49m\u001B[43m \u001B[49m\u001B[43mval_dl\u001B[49m\u001B[43m,\u001B[49m\u001B[43m \u001B[49m\u001B[43mopt_func\u001B[49m\u001B[43m)\u001B[49m\n",
      "Input \u001B[1;32mIn [109]\u001B[0m, in \u001B[0;36mfit\u001B[1;34m(epochs, lr, model, train_loader, val_loader, opt_func)\u001B[0m\n\u001B[0;32m     20\u001B[0m     optimizer\u001B[38;5;241m.\u001B[39mzero_grad ()\n\u001B[0;32m     21\u001B[0m \u001B[38;5;66;03m# Validation phase\u001B[39;00m\n\u001B[1;32m---> 22\u001B[0m result \u001B[38;5;241m=\u001B[39m \u001B[43mevaluate\u001B[49m\u001B[43m \u001B[49m\u001B[43m(\u001B[49m\u001B[43mmodel\u001B[49m\u001B[43m,\u001B[49m\u001B[43m \u001B[49m\u001B[43mval_loader\u001B[49m\u001B[43m)\u001B[49m\n\u001B[0;32m     23\u001B[0m \u001B[38;5;66;03m# 获取训练集损失值\u001B[39;00m\n\u001B[0;32m     24\u001B[0m result[\u001B[38;5;124m'\u001B[39m\u001B[38;5;124mtrain_loss\u001B[39m\u001B[38;5;124m'\u001B[39m] \u001B[38;5;241m=\u001B[39m torch\u001B[38;5;241m.\u001B[39mstack (train_losses)\u001B[38;5;241m.\u001B[39mmean ()\u001B[38;5;241m.\u001B[39mitem ()\n",
      "File \u001B[1;32mC:\\ProgramData\\Anaconda3\\envs\\CV\\lib\\site-packages\\torch\\autograd\\grad_mode.py:27\u001B[0m, in \u001B[0;36m_DecoratorContextManager.__call__.<locals>.decorate_context\u001B[1;34m(*args, **kwargs)\u001B[0m\n\u001B[0;32m     24\u001B[0m \u001B[38;5;129m@functools\u001B[39m\u001B[38;5;241m.\u001B[39mwraps(func)\n\u001B[0;32m     25\u001B[0m \u001B[38;5;28;01mdef\u001B[39;00m \u001B[38;5;21mdecorate_context\u001B[39m(\u001B[38;5;241m*\u001B[39margs, \u001B[38;5;241m*\u001B[39m\u001B[38;5;241m*\u001B[39mkwargs):\n\u001B[0;32m     26\u001B[0m     \u001B[38;5;28;01mwith\u001B[39;00m \u001B[38;5;28mself\u001B[39m\u001B[38;5;241m.\u001B[39mclone():\n\u001B[1;32m---> 27\u001B[0m         \u001B[38;5;28;01mreturn\u001B[39;00m func(\u001B[38;5;241m*\u001B[39margs, \u001B[38;5;241m*\u001B[39m\u001B[38;5;241m*\u001B[39mkwargs)\n",
      "Input \u001B[1;32mIn [109]\u001B[0m, in \u001B[0;36mevaluate\u001B[1;34m(model, val_loader)\u001B[0m\n\u001B[0;32m      1\u001B[0m \u001B[38;5;129m@torch\u001B[39m\u001B[38;5;241m.\u001B[39mno_grad ()\n\u001B[0;32m      2\u001B[0m \u001B[38;5;28;01mdef\u001B[39;00m \u001B[38;5;21mevaluate\u001B[39m (model, val_loader):\n\u001B[0;32m      3\u001B[0m     model\u001B[38;5;241m.\u001B[39meval ()\n\u001B[1;32m----> 4\u001B[0m     outputs \u001B[38;5;241m=\u001B[39m [model\u001B[38;5;241m.\u001B[39mvalidation_step (batch) \u001B[38;5;28;01mfor\u001B[39;00m batch \u001B[38;5;129;01min\u001B[39;00m val_loader]\n\u001B[0;32m      5\u001B[0m     \u001B[38;5;28;01mreturn\u001B[39;00m model\u001B[38;5;241m.\u001B[39mvalidation_epoch_end (outputs)\n",
      "Input \u001B[1;32mIn [109]\u001B[0m, in \u001B[0;36m<listcomp>\u001B[1;34m(.0)\u001B[0m\n\u001B[0;32m      1\u001B[0m \u001B[38;5;129m@torch\u001B[39m\u001B[38;5;241m.\u001B[39mno_grad ()\n\u001B[0;32m      2\u001B[0m \u001B[38;5;28;01mdef\u001B[39;00m \u001B[38;5;21mevaluate\u001B[39m (model, val_loader):\n\u001B[0;32m      3\u001B[0m     model\u001B[38;5;241m.\u001B[39meval ()\n\u001B[1;32m----> 4\u001B[0m     outputs \u001B[38;5;241m=\u001B[39m [model\u001B[38;5;241m.\u001B[39mvalidation_step (batch) \u001B[38;5;28;01mfor\u001B[39;00m batch \u001B[38;5;129;01min\u001B[39;00m val_loader]\n\u001B[0;32m      5\u001B[0m     \u001B[38;5;28;01mreturn\u001B[39;00m model\u001B[38;5;241m.\u001B[39mvalidation_epoch_end (outputs)\n",
      "Input \u001B[1;32mIn [102]\u001B[0m, in \u001B[0;36mDeviceDataLoader.__iter__\u001B[1;34m(self)\u001B[0m\n\u001B[0;32m     25\u001B[0m \u001B[38;5;28;01mdef\u001B[39;00m \u001B[38;5;21m__iter__\u001B[39m (\u001B[38;5;28mself\u001B[39m):\n\u001B[0;32m     26\u001B[0m     \u001B[38;5;124;03m\"\"\"Yield a batch of data after moving it to device\"\"\"\u001B[39;00m\n\u001B[1;32m---> 27\u001B[0m     \u001B[38;5;28;01mfor\u001B[39;00m b \u001B[38;5;129;01min\u001B[39;00m \u001B[38;5;28mself\u001B[39m\u001B[38;5;241m.\u001B[39mdl:\n\u001B[0;32m     28\u001B[0m         \u001B[38;5;28;01myield\u001B[39;00m to_device (b, \u001B[38;5;28mself\u001B[39m\u001B[38;5;241m.\u001B[39mdevice)\n",
      "Input \u001B[1;32mIn [102]\u001B[0m, in \u001B[0;36mDeviceDataLoader.__iter__\u001B[1;34m(self)\u001B[0m\n\u001B[0;32m     25\u001B[0m \u001B[38;5;28;01mdef\u001B[39;00m \u001B[38;5;21m__iter__\u001B[39m (\u001B[38;5;28mself\u001B[39m):\n\u001B[0;32m     26\u001B[0m     \u001B[38;5;124;03m\"\"\"Yield a batch of data after moving it to device\"\"\"\u001B[39;00m\n\u001B[1;32m---> 27\u001B[0m     \u001B[38;5;28;01mfor\u001B[39;00m b \u001B[38;5;129;01min\u001B[39;00m \u001B[38;5;28mself\u001B[39m\u001B[38;5;241m.\u001B[39mdl:\n\u001B[0;32m     28\u001B[0m         \u001B[38;5;28;01myield\u001B[39;00m to_device (b, \u001B[38;5;28mself\u001B[39m\u001B[38;5;241m.\u001B[39mdevice)\n",
      "File \u001B[1;32mC:\\ProgramData\\Anaconda3\\envs\\CV\\lib\\site-packages\\torch\\utils\\data\\dataloader.py:368\u001B[0m, in \u001B[0;36mDataLoader.__iter__\u001B[1;34m(self)\u001B[0m\n\u001B[0;32m    366\u001B[0m     \u001B[38;5;28;01mreturn\u001B[39;00m \u001B[38;5;28mself\u001B[39m\u001B[38;5;241m.\u001B[39m_iterator\n\u001B[0;32m    367\u001B[0m \u001B[38;5;28;01melse\u001B[39;00m:\n\u001B[1;32m--> 368\u001B[0m     \u001B[38;5;28;01mreturn\u001B[39;00m \u001B[38;5;28;43mself\u001B[39;49m\u001B[38;5;241;43m.\u001B[39;49m\u001B[43m_get_iterator\u001B[49m\u001B[43m(\u001B[49m\u001B[43m)\u001B[49m\n",
      "File \u001B[1;32mC:\\ProgramData\\Anaconda3\\envs\\CV\\lib\\site-packages\\torch\\utils\\data\\dataloader.py:314\u001B[0m, in \u001B[0;36mDataLoader._get_iterator\u001B[1;34m(self)\u001B[0m\n\u001B[0;32m    312\u001B[0m \u001B[38;5;28;01melse\u001B[39;00m:\n\u001B[0;32m    313\u001B[0m     \u001B[38;5;28mself\u001B[39m\u001B[38;5;241m.\u001B[39mcheck_worker_number_rationality()\n\u001B[1;32m--> 314\u001B[0m     \u001B[38;5;28;01mreturn\u001B[39;00m \u001B[43m_MultiProcessingDataLoaderIter\u001B[49m\u001B[43m(\u001B[49m\u001B[38;5;28;43mself\u001B[39;49m\u001B[43m)\u001B[49m\n",
      "File \u001B[1;32mC:\\ProgramData\\Anaconda3\\envs\\CV\\lib\\site-packages\\torch\\utils\\data\\dataloader.py:927\u001B[0m, in \u001B[0;36m_MultiProcessingDataLoaderIter.__init__\u001B[1;34m(self, loader)\u001B[0m\n\u001B[0;32m    920\u001B[0m w\u001B[38;5;241m.\u001B[39mdaemon \u001B[38;5;241m=\u001B[39m \u001B[38;5;28;01mTrue\u001B[39;00m\n\u001B[0;32m    921\u001B[0m \u001B[38;5;66;03m# NB: Process.start() actually take some time as it needs to\u001B[39;00m\n\u001B[0;32m    922\u001B[0m \u001B[38;5;66;03m#     start a process and pass the arguments over via a pipe.\u001B[39;00m\n\u001B[0;32m    923\u001B[0m \u001B[38;5;66;03m#     Therefore, we only add a worker to self._workers list after\u001B[39;00m\n\u001B[0;32m    924\u001B[0m \u001B[38;5;66;03m#     it started, so that we do not call .join() if program dies\u001B[39;00m\n\u001B[0;32m    925\u001B[0m \u001B[38;5;66;03m#     before it starts, and __del__ tries to join but will get:\u001B[39;00m\n\u001B[0;32m    926\u001B[0m \u001B[38;5;66;03m#     AssertionError: can only join a started process.\u001B[39;00m\n\u001B[1;32m--> 927\u001B[0m \u001B[43mw\u001B[49m\u001B[38;5;241;43m.\u001B[39;49m\u001B[43mstart\u001B[49m\u001B[43m(\u001B[49m\u001B[43m)\u001B[49m\n\u001B[0;32m    928\u001B[0m \u001B[38;5;28mself\u001B[39m\u001B[38;5;241m.\u001B[39m_index_queues\u001B[38;5;241m.\u001B[39mappend(index_queue)\n\u001B[0;32m    929\u001B[0m \u001B[38;5;28mself\u001B[39m\u001B[38;5;241m.\u001B[39m_workers\u001B[38;5;241m.\u001B[39mappend(w)\n",
      "File \u001B[1;32mC:\\ProgramData\\Anaconda3\\envs\\CV\\lib\\multiprocessing\\process.py:121\u001B[0m, in \u001B[0;36mBaseProcess.start\u001B[1;34m(self)\u001B[0m\n\u001B[0;32m    118\u001B[0m \u001B[38;5;28;01massert\u001B[39;00m \u001B[38;5;129;01mnot\u001B[39;00m _current_process\u001B[38;5;241m.\u001B[39m_config\u001B[38;5;241m.\u001B[39mget(\u001B[38;5;124m'\u001B[39m\u001B[38;5;124mdaemon\u001B[39m\u001B[38;5;124m'\u001B[39m), \\\n\u001B[0;32m    119\u001B[0m        \u001B[38;5;124m'\u001B[39m\u001B[38;5;124mdaemonic processes are not allowed to have children\u001B[39m\u001B[38;5;124m'\u001B[39m\n\u001B[0;32m    120\u001B[0m _cleanup()\n\u001B[1;32m--> 121\u001B[0m \u001B[38;5;28mself\u001B[39m\u001B[38;5;241m.\u001B[39m_popen \u001B[38;5;241m=\u001B[39m \u001B[38;5;28;43mself\u001B[39;49m\u001B[38;5;241;43m.\u001B[39;49m\u001B[43m_Popen\u001B[49m\u001B[43m(\u001B[49m\u001B[38;5;28;43mself\u001B[39;49m\u001B[43m)\u001B[49m\n\u001B[0;32m    122\u001B[0m \u001B[38;5;28mself\u001B[39m\u001B[38;5;241m.\u001B[39m_sentinel \u001B[38;5;241m=\u001B[39m \u001B[38;5;28mself\u001B[39m\u001B[38;5;241m.\u001B[39m_popen\u001B[38;5;241m.\u001B[39msentinel\n\u001B[0;32m    123\u001B[0m \u001B[38;5;66;03m# Avoid a refcycle if the target function holds an indirect\u001B[39;00m\n\u001B[0;32m    124\u001B[0m \u001B[38;5;66;03m# reference to the process object (see bpo-30775)\u001B[39;00m\n",
      "File \u001B[1;32mC:\\ProgramData\\Anaconda3\\envs\\CV\\lib\\multiprocessing\\context.py:224\u001B[0m, in \u001B[0;36mProcess._Popen\u001B[1;34m(process_obj)\u001B[0m\n\u001B[0;32m    222\u001B[0m \u001B[38;5;129m@staticmethod\u001B[39m\n\u001B[0;32m    223\u001B[0m \u001B[38;5;28;01mdef\u001B[39;00m \u001B[38;5;21m_Popen\u001B[39m(process_obj):\n\u001B[1;32m--> 224\u001B[0m     \u001B[38;5;28;01mreturn\u001B[39;00m \u001B[43m_default_context\u001B[49m\u001B[38;5;241;43m.\u001B[39;49m\u001B[43mget_context\u001B[49m\u001B[43m(\u001B[49m\u001B[43m)\u001B[49m\u001B[38;5;241;43m.\u001B[39;49m\u001B[43mProcess\u001B[49m\u001B[38;5;241;43m.\u001B[39;49m\u001B[43m_Popen\u001B[49m\u001B[43m(\u001B[49m\u001B[43mprocess_obj\u001B[49m\u001B[43m)\u001B[49m\n",
      "File \u001B[1;32mC:\\ProgramData\\Anaconda3\\envs\\CV\\lib\\multiprocessing\\context.py:327\u001B[0m, in \u001B[0;36mSpawnProcess._Popen\u001B[1;34m(process_obj)\u001B[0m\n\u001B[0;32m    324\u001B[0m \u001B[38;5;129m@staticmethod\u001B[39m\n\u001B[0;32m    325\u001B[0m \u001B[38;5;28;01mdef\u001B[39;00m \u001B[38;5;21m_Popen\u001B[39m(process_obj):\n\u001B[0;32m    326\u001B[0m     \u001B[38;5;28;01mfrom\u001B[39;00m \u001B[38;5;21;01m.\u001B[39;00m\u001B[38;5;21;01mpopen_spawn_win32\u001B[39;00m \u001B[38;5;28;01mimport\u001B[39;00m Popen\n\u001B[1;32m--> 327\u001B[0m     \u001B[38;5;28;01mreturn\u001B[39;00m \u001B[43mPopen\u001B[49m\u001B[43m(\u001B[49m\u001B[43mprocess_obj\u001B[49m\u001B[43m)\u001B[49m\n",
      "File \u001B[1;32mC:\\ProgramData\\Anaconda3\\envs\\CV\\lib\\multiprocessing\\popen_spawn_win32.py:93\u001B[0m, in \u001B[0;36mPopen.__init__\u001B[1;34m(self, process_obj)\u001B[0m\n\u001B[0;32m     91\u001B[0m \u001B[38;5;28;01mtry\u001B[39;00m:\n\u001B[0;32m     92\u001B[0m     reduction\u001B[38;5;241m.\u001B[39mdump(prep_data, to_child)\n\u001B[1;32m---> 93\u001B[0m     \u001B[43mreduction\u001B[49m\u001B[38;5;241;43m.\u001B[39;49m\u001B[43mdump\u001B[49m\u001B[43m(\u001B[49m\u001B[43mprocess_obj\u001B[49m\u001B[43m,\u001B[49m\u001B[43m \u001B[49m\u001B[43mto_child\u001B[49m\u001B[43m)\u001B[49m\n\u001B[0;32m     94\u001B[0m \u001B[38;5;28;01mfinally\u001B[39;00m:\n\u001B[0;32m     95\u001B[0m     set_spawning_popen(\u001B[38;5;28;01mNone\u001B[39;00m)\n",
      "File \u001B[1;32mC:\\ProgramData\\Anaconda3\\envs\\CV\\lib\\multiprocessing\\reduction.py:60\u001B[0m, in \u001B[0;36mdump\u001B[1;34m(obj, file, protocol)\u001B[0m\n\u001B[0;32m     58\u001B[0m \u001B[38;5;28;01mdef\u001B[39;00m \u001B[38;5;21mdump\u001B[39m(obj, file, protocol\u001B[38;5;241m=\u001B[39m\u001B[38;5;28;01mNone\u001B[39;00m):\n\u001B[0;32m     59\u001B[0m     \u001B[38;5;124;03m'''Replacement for pickle.dump() using ForkingPickler.'''\u001B[39;00m\n\u001B[1;32m---> 60\u001B[0m     \u001B[43mForkingPickler\u001B[49m\u001B[43m(\u001B[49m\u001B[43mfile\u001B[49m\u001B[43m,\u001B[49m\u001B[43m \u001B[49m\u001B[43mprotocol\u001B[49m\u001B[43m)\u001B[49m\u001B[38;5;241;43m.\u001B[39;49m\u001B[43mdump\u001B[49m\u001B[43m(\u001B[49m\u001B[43mobj\u001B[49m\u001B[43m)\u001B[49m\n",
      "\u001B[1;31mKeyboardInterrupt\u001B[0m: "
     ]
    }
   ]
  },
  {
   "cell_type": "code",
   "execution_count": 59,
   "outputs": [
    {
     "name": "stdout",
     "output_type": "stream",
     "text": [
      "212_net_0.001 0.9961_params.pkl  已储存\n"
     ]
    }
   ],
   "source": [
    "save_network(model,'0.001 0.9961',0)"
   ],
   "metadata": {
    "collapsed": false,
    "pycharm": {
     "name": "#%%\n"
    }
   }
  },
  {
   "cell_type": "code",
   "execution_count": 49,
   "outputs": [
    {
     "name": "stdout",
     "output_type": "stream",
     "text": [
      "[{'val_loss': 0.6408124566078186, 'val_acc': 0.9866319298744202}]\n"
     ]
    }
   ],
   "source": [
    "print(history)"
   ],
   "metadata": {
    "collapsed": false,
    "pycharm": {
     "name": "#%%\n"
    }
   }
  },
  {
   "cell_type": "code",
   "source": [
    "def plot_accuracies (history):\n",
    "    accuracies = [x['val_acc'] for x in history]\n",
    "    plt.plot (accuracies, '-x')\n",
    "    plt.xlabel ('epoch')\n",
    "    plt.ylabel ('accuracy')\n",
    "    plt.title ('Accuracy vs. No. of epochs')\n",
    "    plt.show ()\n",
    "\n",
    "\n",
    "def plot_losses (history):\n",
    "    train_losses = [x.get ('train_loss') for x in history]\n",
    "    val_losses = [x['val_loss'] for x in history]\n",
    "    plt.plot (train_losses, '-bx')\n",
    "    plt.plot (val_losses, '-rx')\n",
    "    plt.xlabel ('epoch')\n",
    "    plt.ylabel ('loss')\n",
    "    plt.legend (['Training', 'Validation'])\n",
    "    plt.title ('Loss vs. No. of epochs')\n",
    "    plt.show ()"
   ],
   "metadata": {
    "id": "eW0OMYMxtN1X",
    "pycharm": {
     "name": "#%%\n"
    }
   },
   "execution_count": 50,
   "outputs": []
  },
  {
   "cell_type": "code",
   "source": [
    "plot_accuracies (history)"
   ],
   "metadata": {
    "colab": {
     "base_uri": "https://localhost:8080/",
     "height": 295
    },
    "id": "JupvRPgCtPJ3",
    "outputId": "b72fe3d3-f0dc-4c9c-be4a-1b62de2e47ce",
    "pycharm": {
     "name": "#%%\n"
    }
   },
   "execution_count": 51,
   "outputs": [
    {
     "data": {
      "text/plain": "<Figure size 432x288 with 1 Axes>",
      "image/png": "[encoded data removed]"
     },
     "metadata": {
      "needs_background": "light"
     },
     "output_type": "display_data"
    }
   ]
  },
  {
   "cell_type": "code",
   "source": [
    "plot_losses (history)"
   ],
   "metadata": {
    "colab": {
     "base_uri": "https://localhost:8080/",
     "height": 295
    },
    "id": "FJBbAxMdtQk4",
    "outputId": "c76944ae-ed0f-418e-fa82-b64e6b50ad3f",
    "pycharm": {
     "name": "#%%\n"
    }
   },
   "execution_count": 103,
   "outputs": [
    {
     "data": {
      "text/plain": "<Figure size 432x288 with 1 Axes>",
      "image/png": "[encoded data removed]"
     },
     "metadata": {
      "needs_background": "light"
     },
     "output_type": "display_data"
    }
   ]
  },
  {
   "cell_type": "code",
   "source": [
    "evaluate (model, test_loader)"
   ],
   "metadata": {
    "id": "Uin0repltTC4",
    "pycharm": {
     "name": "#%%\n"
    }
   },
   "execution_count": 45,
   "outputs": [
    {
     "data": {
      "text/plain": "{'val_loss': 0.12246806919574738, 'val_acc': 0.9874705076217651}"
     },
     "execution_count": 45,
     "metadata": {},
     "output_type": "execute_result"
    }
   ]
  },
  {
   "cell_type": "markdown",
   "source": [
    "##FLOPs"
   ],
   "metadata": {
    "id": "xsh4oHm2hMhp",
    "pycharm": {
     "name": "#%% md\n"
    }
   }
  },
  {
   "cell_type": "code",
   "source": [
    "#The code from https://cloudstor.aarnet.edu.au/plus/s/PcSc67ZncTSQP0E can be used to count flops\n",
    "#Download the code.\n",
    "!wget -c https: // cloudstor.aarnet.edu.au / plus / s / hXo1dK9SZqiEVn9 / download\n",
    "!mv download FLOPs_counter.py\n",
    "#!rm -rf download"
   ],
   "metadata": {
    "id": "Y-effbw3hOX0",
    "pycharm": {
     "name": "#%%\n"
    }
   },
   "execution_count": 50,
   "outputs": [
    {
     "name": "stderr",
     "output_type": "stream",
     "text": [
      "--2022-05-24 19:28:30--  ftp://https/\n",
      "           => '.listing'\n",
      "Resolving https (https)... failed: 不知道这样的主机。 .\n",
      "wget: unable to resolve host address 'https'\n",
      "//: Scheme missing.\n",
      "--2022-05-24 19:28:32--  http://cloudstor.aarnet.edu.au/\n",
      "Resolving cloudstor.aarnet.edu.au (cloudstor.aarnet.edu.au)... 202.158.207.20\n",
      "Connecting to cloudstor.aarnet.edu.au (cloudstor.aarnet.edu.au)|202.158.207.20|:80... connected.\n",
      "HTTP request sent, awaiting response... 301 Moved Permanently\n",
      "Location: https://cloudstor.aarnet.edu.au/ [following]\n",
      "--2022-05-24 19:28:33--  https://cloudstor.aarnet.edu.au/\n",
      "Connecting to cloudstor.aarnet.edu.au (cloudstor.aarnet.edu.au)|202.158.207.20|:443... connected.\n",
      "HTTP request sent, awaiting response... 302 Found\n",
      "Location: https://cloudstor.aarnet.edu.au/plus/ [following]\n",
      "--2022-05-24 19:28:34--  https://cloudstor.aarnet.edu.au/plus/\n",
      "Reusing existing connection to cloudstor.aarnet.edu.au:443.\n",
      "HTTP request sent, awaiting response... 302 Found\n",
      "Syntax error in Set-Cookie: 5230042dc1897=utbv29f9po1id5fmn1l04enh7d; path=/plus;; Secure at position 53.\n",
      "Syntax error in Set-Cookie: oc_sessionPassphrase=w%2FLEBtSoZDHiW2aMJzgyODj8LBwTaRBDRXK3evxXB1%2FoABbmD5h%2BPLkcKgvOtXogd%2Bqst5AyMaV%2BWzeF6x5XbpiygqdX9d%2FpRBor16g4S0FsBmtiPT5ZedyEbqWHVEJj; path=/plus;; Secure at position 174.\n",
      "Location: https://cloudstor.aarnet.edu.au/simplesaml/module.php/discopower/disco.php?entityID=https%3A%2F%2Fcloudstor.aarnet.edu.au%2Fsimplesaml%2Fmodule.php%2Fsaml%2Fsp%2Fmetadata.php%2Fdefault-sp&return=https%3A%2F%2Fcloudstor.aarnet.edu.au%2Fsimplesaml%2Fmodule.php%2Fsaml%2Fsp%2Fdiscoresp.php%3FAuthID%3D_0b2f0911b6a8e6650a446ff077cc591f1c0dbba73d%253Ahttps%253A%252F%252Fcloudstor.aarnet.edu.au%252Fsimplesaml%252Fmodule.php%252Fcore%252Fas_login.php%253FAuthId%253Ddefault-sp%2526ReturnTo%253Dhttps%25253A%25252F%25252Fcloudstor.aarnet.edu.au%25252Fplus%25252F&returnIDParam=idpentityid [following]\n",
      "--2022-05-24 19:28:34--  https://cloudstor.aarnet.edu.au/simplesaml/module.php/discopower/disco.php?entityID=https%3A%2F%2Fcloudstor.aarnet.edu.au%2Fsimplesaml%2Fmodule.php%2Fsaml%2Fsp%2Fmetadata.php%2Fdefault-sp&return=https%3A%2F%2Fcloudstor.aarnet.edu.au%2Fsimplesaml%2Fmodule.php%2Fsaml%2Fsp%2Fdiscoresp.php%3FAuthID%3D_0b2f0911b6a8e6650a446ff077cc591f1c0dbba73d%3Ahttps%3A%2F%2Fcloudstor.aarnet.edu.au%2Fsimplesaml%2Fmodule.php%2Fcore%2Fas_login.php%3FAuthId%3Ddefault-sp%26ReturnTo%3Dhttps%253A%252F%252Fcloudstor.aarnet.edu.au%252Fplus%252F&returnIDParam=idpentityid\n",
      "Reusing existing connection to cloudstor.aarnet.edu.au:443.\n",
      "HTTP request sent, awaiting response... 200 OK\n",
      "Length: unspecified [text/html]\n",
      "Saving to: 'index.html'\n",
      "\n",
      "     0K .......... .......... .......... .......... ..........  129K\n",
      "    50K .......... .......... .......... .......... .......     255K=0.6s\n",
      "\n",
      "2022-05-24 19:28:35 (170 KB/s) - 'index.html' saved [99523]\n",
      "\n",
      "/: Scheme missing.\n",
      "--2022-05-24 19:28:35--  http://plus/\n",
      "Resolving plus (plus)... failed: 不知道这样的主机。 .\n",
      "wget: unable to resolve host address 'plus'\n",
      "/: Scheme missing.\n",
      "--2022-05-24 19:28:37--  http://s/\n",
      "Resolving s (s)... failed: 不知道这样的主机。 .\n",
      "wget: unable to resolve host address 's'\n",
      "/: Scheme missing.\n",
      "--2022-05-24 19:28:39--  http://hxo1dk9szqievn9/\n",
      "Resolving hxo1dk9szqievn9 (hxo1dk9szqievn9)... failed: 不知道这样的主机。 .\n",
      "wget: unable to resolve host address 'hxo1dk9szqievn9'\n",
      "/: Scheme missing.\n",
      "--2022-05-24 19:28:42--  http://download/\n",
      "Resolving download (download)... failed: 不知道这样的主机。 .\n",
      "wget: unable to resolve host address 'download'\n",
      "FINISHED --2022-05-24 19:28:44--\n",
      "Total wall clock time: 14s\n",
      "Downloaded: 1 files, 97K in 0.6s (170 KB/s)\n",
      "'mv' 不是内部或外部命令，也不是可运行的程序\n",
      "或批处理文件。\n"
     ]
    }
   ]
  },
  {
   "cell_type": "code",
   "execution_count": null,
   "outputs": [],
   "source": [
    "from FLOPs_counter import print_model_parm_flops\n",
    "\n",
    "input = torch.randn (1, 3, 40, 40)  # The input size should be the same as the size that you put into your model\n",
    "#Get the network and its FLOPs\n",
    "num_classes = 3\n",
    "model = CnnModel (num_classes)\n",
    "print_model_parm_flops (model, input, detail=False)"
   ],
   "metadata": {
    "collapsed": false,
    "pycharm": {
     "name": "#%%\n"
    }
   }
  }
 ]
}